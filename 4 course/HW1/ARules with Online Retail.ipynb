{
 "cells": [
  {
   "cell_type": "code",
   "execution_count": 1,
   "metadata": {
    "colab": {},
    "colab_type": "code",
    "id": "vnEIep1wr-hK"
   },
   "outputs": [],
   "source": [
    "from IPython.display import display, Math, Latex\n",
    "from IPython.core.display import HTML "
   ]
  },
  {
   "cell_type": "code",
   "execution_count": 2,
   "metadata": {
    "colab": {},
    "colab_type": "code",
    "id": "kkhYBsagr-hn"
   },
   "outputs": [],
   "source": [
    "# подгрузим модули\n",
    "import numpy as np\n",
    "import matplotlib.pyplot as plt\n",
    "import pandas as pd\n",
    "import csv"
   ]
  },
  {
   "cell_type": "code",
   "execution_count": 3,
   "metadata": {},
   "outputs": [
    {
     "name": "stderr",
     "output_type": "stream",
     "text": [
      "C:\\Users\\irina\\anaconda3\\lib\\site-packages\\IPython\\core\\interactiveshell.py:3071: DtypeWarning: Columns (3,6) have mixed types.Specify dtype option on import or set low_memory=False.\n",
      "  has_raised = await self.run_ast_nodes(code_ast.body, cell_name,\n"
     ]
    }
   ],
   "source": [
    "dataset = pd.read_csv('./csvs/Online_Retail.csv',delimiter = \";\",header=None) "
   ]
  },
  {
   "cell_type": "code",
   "execution_count": 4,
   "metadata": {
    "colab": {},
    "colab_type": "code",
    "id": "A2oJ9Lslr-hr",
    "outputId": "70b5a8d1-ff8a-4718-be21-1f22897b9fe6"
   },
   "outputs": [
    {
     "data": {
      "text/html": [
       "<div>\n",
       "<style scoped>\n",
       "    .dataframe tbody tr th:only-of-type {\n",
       "        vertical-align: middle;\n",
       "    }\n",
       "\n",
       "    .dataframe tbody tr th {\n",
       "        vertical-align: top;\n",
       "    }\n",
       "\n",
       "    .dataframe thead th {\n",
       "        text-align: right;\n",
       "    }\n",
       "</style>\n",
       "<table border=\"1\" class=\"dataframe\">\n",
       "  <thead>\n",
       "    <tr style=\"text-align: right;\">\n",
       "      <th></th>\n",
       "      <th>0</th>\n",
       "      <th>1</th>\n",
       "      <th>2</th>\n",
       "      <th>3</th>\n",
       "      <th>4</th>\n",
       "      <th>5</th>\n",
       "      <th>6</th>\n",
       "      <th>7</th>\n",
       "    </tr>\n",
       "  </thead>\n",
       "  <tbody>\n",
       "    <tr>\n",
       "      <th>0</th>\n",
       "      <td>InvoiceNo</td>\n",
       "      <td>StockCode</td>\n",
       "      <td>Description</td>\n",
       "      <td>Quantity</td>\n",
       "      <td>InvoiceDate</td>\n",
       "      <td>UnitPrice</td>\n",
       "      <td>CustomerID</td>\n",
       "      <td>Country</td>\n",
       "    </tr>\n",
       "    <tr>\n",
       "      <th>1</th>\n",
       "      <td>536365</td>\n",
       "      <td>85123A</td>\n",
       "      <td>WHITE HANGING HEART T-LIGHT HOLDER</td>\n",
       "      <td>6</td>\n",
       "      <td>01 12 10 8:26</td>\n",
       "      <td>2,55</td>\n",
       "      <td>17850</td>\n",
       "      <td>United Kingdom</td>\n",
       "    </tr>\n",
       "    <tr>\n",
       "      <th>2</th>\n",
       "      <td>536365</td>\n",
       "      <td>71053</td>\n",
       "      <td>WHITE METAL LANTERN</td>\n",
       "      <td>6</td>\n",
       "      <td>01 12 10 8:26</td>\n",
       "      <td>3,39</td>\n",
       "      <td>17850</td>\n",
       "      <td>United Kingdom</td>\n",
       "    </tr>\n",
       "    <tr>\n",
       "      <th>3</th>\n",
       "      <td>536365</td>\n",
       "      <td>84406B</td>\n",
       "      <td>CREAM CUPID HEARTS COAT HANGER</td>\n",
       "      <td>8</td>\n",
       "      <td>01 12 10 8:26</td>\n",
       "      <td>2,75</td>\n",
       "      <td>17850</td>\n",
       "      <td>United Kingdom</td>\n",
       "    </tr>\n",
       "    <tr>\n",
       "      <th>4</th>\n",
       "      <td>536365</td>\n",
       "      <td>84029G</td>\n",
       "      <td>KNITTED UNION FLAG HOT WATER BOTTLE</td>\n",
       "      <td>6</td>\n",
       "      <td>01 12 10 8:26</td>\n",
       "      <td>3,39</td>\n",
       "      <td>17850</td>\n",
       "      <td>United Kingdom</td>\n",
       "    </tr>\n",
       "  </tbody>\n",
       "</table>\n",
       "</div>"
      ],
      "text/plain": [
       "           0          1                                    2         3  \\\n",
       "0  InvoiceNo  StockCode                          Description  Quantity   \n",
       "1     536365     85123A   WHITE HANGING HEART T-LIGHT HOLDER         6   \n",
       "2     536365      71053                  WHITE METAL LANTERN         6   \n",
       "3     536365     84406B       CREAM CUPID HEARTS COAT HANGER         8   \n",
       "4     536365     84029G  KNITTED UNION FLAG HOT WATER BOTTLE         6   \n",
       "\n",
       "               4          5           6               7  \n",
       "0    InvoiceDate  UnitPrice  CustomerID         Country  \n",
       "1  01 12 10 8:26       2,55       17850  United Kingdom  \n",
       "2  01 12 10 8:26       3,39       17850  United Kingdom  \n",
       "3  01 12 10 8:26       2,75       17850  United Kingdom  \n",
       "4  01 12 10 8:26       3,39       17850  United Kingdom  "
      ]
     },
     "execution_count": 4,
     "metadata": {},
     "output_type": "execute_result"
    }
   ],
   "source": [
    "# посомтрим на датасет\n",
    "dataset.head()"
   ]
  },
  {
   "cell_type": "code",
   "execution_count": 5,
   "metadata": {
    "colab": {},
    "colab_type": "code",
    "id": "56GEPnqhr-hz"
   },
   "outputs": [],
   "source": [
    "transactions = []\n",
    "for i in range(0, 7000): \n",
    "    transactions.append([str(dataset.values[i,j]) for j in [0, len(dataset.columns) - 1]])"
   ]
  },
  {
   "cell_type": "code",
   "execution_count": 6,
   "metadata": {
    "colab": {},
    "colab_type": "code",
    "id": "3TJ_vIBer-h1"
   },
   "outputs": [],
   "source": [
    "import apyori\n",
    "from apyori import apriori"
   ]
  },
  {
   "cell_type": "code",
   "execution_count": 7,
   "metadata": {
    "colab": {},
    "colab_type": "code",
    "id": "9HphMwvvr-h3",
    "outputId": "476aa343-e328-4acd-9650-07b2046236cd"
   },
   "outputs": [
    {
     "name": "stdout",
     "output_type": "stream",
     "text": [
      "Wall time: 21 ms\n"
     ]
    }
   ],
   "source": [
    "%%time\n",
    "# и обучимся правилам. Обратите внимание, что пороговые значения мы вибираем сами в зависимости от того, /\n",
    "# насколкьо \"сильные\" правила мы хотим получить\n",
    "# min_support -- минимальный support для правил (dtype = float).\n",
    "# min_confidence -- минимальное значение confidence для правил (dtype = float)\n",
    "# min_lift -- минимальный lift (dtype = float)\n",
    "# max_length -- максимальная длина itemset (вспоминаем про k-itemset)  (dtype = integer)\n",
    "\n",
    "result = list(apriori(transactions, min_support = 0.003, min_confidence = 0.2, min_lift = 4, min_length = 2, max_length = 2))"
   ]
  },
  {
   "cell_type": "markdown",
   "metadata": {
    "colab_type": "text",
    "collapsed": true,
    "id": "Gi_AzszUr-h5"
   },
   "source": [
    "Визуализируем выход"
   ]
  },
  {
   "cell_type": "code",
   "execution_count": 8,
   "metadata": {
    "colab": {},
    "colab_type": "code",
    "id": "P1oyfI0or-h5"
   },
   "outputs": [],
   "source": [
    "import shutil, os "
   ]
  },
  {
   "cell_type": "code",
   "execution_count": 9,
   "metadata": {
    "colab": {},
    "colab_type": "code",
    "id": "XDdoAhz4r-h7"
   },
   "outputs": [],
   "source": [
    "try:\n",
    "    from StringIO import StringIO\n",
    "except ImportError:\n",
    "    from io import StringIO"
   ]
  },
  {
   "cell_type": "code",
   "execution_count": 10,
   "metadata": {
    "colab": {},
    "colab_type": "code",
    "id": "M_XNyyOlr-h9"
   },
   "outputs": [],
   "source": [
    "import json #преобразовывать будем в json, используя встроенные в модуль методы"
   ]
  },
  {
   "cell_type": "code",
   "execution_count": 11,
   "metadata": {
    "colab": {},
    "colab_type": "code",
    "id": "18NFjx-Or-iA"
   },
   "outputs": [],
   "source": [
    "output = []\n",
    "for RelationRecord in result:\n",
    "    o = StringIO()\n",
    "    apyori.dump_as_json(RelationRecord, o)\n",
    "    output.append(json.loads(o.getvalue()))\n",
    "data_df = pd.DataFrame(output)"
   ]
  },
  {
   "cell_type": "code",
   "execution_count": 12,
   "metadata": {
    "colab": {},
    "colab_type": "code",
    "id": "ClRNZLV7r-iC",
    "outputId": "235b6226-d0be-42a1-b2ba-45656640479e"
   },
   "outputs": [
    {
     "data": {
      "text/html": [
       "<table border=\"1\" class=\"dataframe\">\n",
       "  <thead>\n",
       "    <tr style=\"text-align: right;\">\n",
       "      <th></th>\n",
       "      <th>items</th>\n",
       "      <th>support</th>\n",
       "      <th>ordered_statistics</th>\n",
       "    </tr>\n",
       "  </thead>\n",
       "  <tbody>\n",
       "    <tr>\n",
       "      <th>0</th>\n",
       "      <td>[536532, Norway]</td>\n",
       "      <td>0.010429</td>\n",
       "      <td>[{'items_base': ['536532'], 'items_add': ['Norway'], 'confidence': 1.0, 'lift': 95.8904109589041}, {'items_base': ['Norway'], 'items_add': ['536532'], 'confidence': 1.0, 'lift': 95.8904109589041}]</td>\n",
       "    </tr>\n",
       "    <tr>\n",
       "      <th>1</th>\n",
       "      <td>[536975, EIRE]</td>\n",
       "      <td>0.010143</td>\n",
       "      <td>[{'items_base': ['536975'], 'items_add': ['EIRE'], 'confidence': 1.0, 'lift': 64.22018348623854}, {'items_base': ['EIRE'], 'items_add': ['536975'], 'confidence': 0.6513761467889908, 'lift': 64.22018348623853}]</td>\n",
       "    </tr>\n",
       "  </tbody>\n",
       "</table>"
      ],
      "text/plain": [
       "<IPython.core.display.HTML object>"
      ]
     },
     "metadata": {},
     "output_type": "display_data"
    }
   ],
   "source": [
    "# и взгялнем на итоги\n",
    "pd.set_option('display.max_colwidth', None)\n",
    "\n",
    "from IPython.display import display, HTML\n",
    "\n",
    "display(HTML(data_df.to_html()))"
   ]
  },
  {
   "cell_type": "markdown",
   "metadata": {
    "colab_type": "text",
    "id": "jnevOHgPr-iE"
   },
   "source": [
    "Итого мы видим:\n",
    "\n",
    "1. Пары items\n",
    "2. items_base - первый элемент пары\n",
    "3. items_add - второй (добавленный алгоритмом) элемент пары\n",
    "4. confidence - значение confidence для пары\n",
    "5. lift - значение lift для пары\n",
    "6. support - начение support для пары. При желании, по нему можно отсортировать "
   ]
  },
  {
   "cell_type": "markdown",
   "metadata": {
    "colab_type": "text",
    "id": "wGGnoV0Xr-iL"
   },
   "source": [
    "### ECLAT Algorithm"
   ]
  },
  {
   "cell_type": "markdown",
   "metadata": {
    "colab_type": "text",
    "id": "JN6PihBfr-iR"
   },
   "source": [
    "#### Реализация в Python"
   ]
  },
  {
   "cell_type": "code",
   "execution_count": 16,
   "metadata": {
    "colab": {},
    "colab_type": "code",
    "executionInfo": {
     "elapsed": 754,
     "status": "ok",
     "timestamp": 1599552043860,
     "user": {
      "displayName": "Алсу Нурутдинова",
      "photoUrl": "",
      "userId": "04111228134967302103"
     },
     "user_tz": -180
    },
    "id": "p-fKb21ar-iS"
   },
   "outputs": [],
   "source": [
    "import numpy as np\n",
    "\"\"\"\n",
    "Класс инициируется 3мя параметрами:\n",
    "- min_supp - минимальный support  который мы рассматриваем для ItemSet. Рассчитывается как % от количества транзакций\n",
    "- max_items - максимальное количество елементов в нашем ItemSet\n",
    "- min_items - минимальное количество элементов ItemSet\n",
    "\"\"\"\n",
    "class Eclat:\n",
    "    #инициализация объекта класса\n",
    "    def __init__(self, min_support = 0.01, max_items = 5, min_items = 2):\n",
    "        self.min_support = min_support\n",
    "        self.max_items = max_items\n",
    "        self.min_items = min_items\n",
    "        self.item_lst = list()\n",
    "        self.item_len = 0\n",
    "        self.item_dict = dict()\n",
    "        self.final_dict = dict()\n",
    "        self.data_size = 0\n",
    "    \n",
    "    #создание словаря из ненулевых объектов из всех транзакций (вертикальный датасет)\n",
    "    def read_data(self, dataset):\n",
    "        for index, row in dataset.iterrows():\n",
    "            row_wo_na = row.dropna().unique()\n",
    "            for item in row_wo_na:\n",
    "                item = str(item).strip()\n",
    "                if item in self.item_dict:\n",
    "                    self.item_dict[item][0] += 1\n",
    "                else:\n",
    "                    self.item_dict.setdefault(item, []).append(1)\n",
    "                self.item_dict[item].append(index)\n",
    "        #задаем переменные экземпляра (instance variables)\n",
    "        self.data_size = dataset.shape[0]\n",
    "        self.item_lst = list(self.item_dict.keys())\n",
    "        self.item_len = len(self.item_lst)\n",
    "        self.min_support = self.min_support * self.data_size\n",
    "        #print (\"min_supp\", self.min_support)\n",
    "        \n",
    "    #рекурсивный метод для поиска всех ItemSet по алгоритму Eclat\n",
    "    #структура данных: {Item: [Supp number, tid1, tid2, tid3, ...]}\n",
    "    def recur_eclat(self, item_name, tids_array, minsupp, num_items, k_start):\n",
    "        if tids_array[0] >= minsupp and num_items <= self.max_items:\n",
    "            for k in range(k_start+1, self.item_len):\n",
    "                if self.item_dict[self.item_lst[k]][0] >= minsupp:\n",
    "                    new_item = item_name + \" | \" + self.item_lst[k]\n",
    "                    new_tids = np.intersect1d(tids_array[1:], self.item_dict[self.item_lst[k]][1:])\n",
    "                    new_tids_size = new_tids.size\n",
    "                    new_tids = np.insert(new_tids, 0, new_tids_size)\n",
    "                    if new_tids_size >= minsupp:\n",
    "                        if num_items >= self.min_items: self.final_dict.update({new_item: new_tids})\n",
    "                        self.recur_eclat(new_item, new_tids, minsupp, num_items+1, k)\n",
    "    \n",
    "    #последовательный вызов функций определенных выше\n",
    "    def fit(self, dataset):\n",
    "        i = 0\n",
    "        self.read_data(dataset)\n",
    "        for w in self.item_lst:\n",
    "            self.recur_eclat(w, self.item_dict[w], self.min_support, 2, i)\n",
    "            i+=1\n",
    "        return self\n",
    "        \n",
    "    #вывод в форме словаря {ItemSet: support(ItemSet)}\n",
    "    def transform(self):\n",
    "        return {k: \"{0:.4f}%\".format((v[0]+0.0)/self.data_size*100) for k, v in self.final_dict.items()}"
   ]
  },
  {
   "cell_type": "markdown",
   "metadata": {
    "colab_type": "text",
    "collapsed": true,
    "id": "3LxE5IxKr-iU"
   },
   "source": [
    "Потестируем"
   ]
  },
  {
   "cell_type": "code",
   "execution_count": 17,
   "metadata": {
    "colab": {},
    "colab_type": "code",
    "executionInfo": {
     "elapsed": 749,
     "status": "ok",
     "timestamp": 1599552043861,
     "user": {
      "displayName": "Алсу Нурутдинова",
      "photoUrl": "",
      "userId": "04111228134967302103"
     },
     "user_tz": -180
    },
    "id": "boolYTtOr-iU"
   },
   "outputs": [],
   "source": [
    "#создадим экземпляр класса с нужными нам параметрами\n",
    "model = Eclat(min_support = 0.009, max_items = 10, min_items = 3)"
   ]
  },
  {
   "cell_type": "code",
   "execution_count": 18,
   "metadata": {
    "colab": {
     "base_uri": "https://localhost:8080/",
     "height": 183
    },
    "colab_type": "code",
    "executionInfo": {
     "elapsed": 736,
     "status": "error",
     "timestamp": 1599552043864,
     "user": {
      "displayName": "Алсу Нурутдинова",
      "photoUrl": "",
      "userId": "04111228134967302103"
     },
     "user_tz": -180
    },
    "id": "Y3TJMe8Vr-iW",
    "outputId": "9fa7397e-bf77-4a2d-b55c-21b11ea50203"
   },
   "outputs": [
    {
     "data": {
      "text/plain": [
       "<__main__.Eclat at 0x1a15a5f4c70>"
      ]
     },
     "execution_count": 18,
     "metadata": {},
     "output_type": "execute_result"
    }
   ],
   "source": [
    "#обучим\n",
    "model.fit(dataset)"
   ]
  },
  {
   "cell_type": "code",
   "execution_count": 19,
   "metadata": {
    "colab": {},
    "colab_type": "code",
    "executionInfo": {
     "elapsed": 726,
     "status": "aborted",
     "timestamp": 1599552043862,
     "user": {
      "displayName": "Алсу Нурутдинова",
      "photoUrl": "",
      "userId": "04111228134967302103"
     },
     "user_tz": -180
    },
    "id": "beu2iXiIr-iY"
   },
   "outputs": [
    {
     "data": {
      "text/plain": [
       "{'6 | United Kingdom | 2,95': '1.3912%',\n",
       " 'United Kingdom | 2 | 1,25': '1.0845%',\n",
       " 'United Kingdom | 1,65 | 12': '1.1013%',\n",
       " 'United Kingdom | 1,65 | 10': '1.0419%',\n",
       " 'United Kingdom | 1,65 | 1': '1.0993%',\n",
       " 'United Kingdom | 12 | 0,85': '1.1149%',\n",
       " 'United Kingdom | 12 | 1,25': '2.1889%',\n",
       " 'United Kingdom | 1,25 | 1': '1.7363%',\n",
       " 'United Kingdom | 2,95 | 1': '1.0135%',\n",
       " 'United Kingdom | 1 | 0,83': '1.1483%',\n",
       " 'United Kingdom | 1 | 4,13': '1.6257%',\n",
       " 'United Kingdom | 1 | 2,46': '1.7102%',\n",
       " 'United Kingdom | 1 | 3,29': '1.2033%',\n",
       " 'United Kingdom | 1 | 1,63': '1.1543%'}"
      ]
     },
     "execution_count": 19,
     "metadata": {},
     "output_type": "execute_result"
    }
   ],
   "source": [
    "#и визуализируем результаты\n",
    "model.transform()"
   ]
  },
  {
   "cell_type": "markdown",
   "metadata": {
    "colab_type": "text",
    "id": "AdMzojAYr-ia"
   },
   "source": [
    "Как видно, реализовать алгоритм своими силами довольно просто, хотя с эффективностью стоит поработать:)"
   ]
  },
  {
   "cell_type": "markdown",
   "metadata": {
    "colab_type": "text",
    "id": "h21xbhPQr-ic"
   },
   "source": [
    "### FP-Growth Algorithm"
   ]
  },
  {
   "cell_type": "markdown",
   "metadata": {
    "colab_type": "text",
    "id": "gFeRRiIdr-if"
   },
   "source": [
    "#### Реализация в Python"
   ]
  },
  {
   "cell_type": "code",
   "execution_count": 20,
   "metadata": {
    "colab": {
     "base_uri": "https://localhost:8080/",
     "height": 305
    },
    "colab_type": "code",
    "executionInfo": {
     "elapsed": 833,
     "status": "error",
     "timestamp": 1599551323040,
     "user": {
      "displayName": "Алсу Нурутдинова",
      "photoUrl": "",
      "userId": "04111228134967302103"
     },
     "user_tz": -180
    },
    "id": "l0hgCb7pr-il",
    "outputId": "d7519bae-dfff-4f7b-bc40-89ad6cf74bcb"
   },
   "outputs": [],
   "source": [
    "import pyfpgrowth"
   ]
  },
  {
   "cell_type": "code",
   "execution_count": 21,
   "metadata": {},
   "outputs": [
    {
     "data": {
      "text/html": [
       "<div>\n",
       "<style scoped>\n",
       "    .dataframe tbody tr th:only-of-type {\n",
       "        vertical-align: middle;\n",
       "    }\n",
       "\n",
       "    .dataframe tbody tr th {\n",
       "        vertical-align: top;\n",
       "    }\n",
       "\n",
       "    .dataframe thead th {\n",
       "        text-align: right;\n",
       "    }\n",
       "</style>\n",
       "<table border=\"1\" class=\"dataframe\">\n",
       "  <thead>\n",
       "    <tr style=\"text-align: right;\">\n",
       "      <th></th>\n",
       "      <th>536365</th>\n",
       "      <th>536366</th>\n",
       "      <th>536367</th>\n",
       "      <th>536368</th>\n",
       "      <th>536369</th>\n",
       "      <th>536370</th>\n",
       "      <th>536371</th>\n",
       "      <th>536372</th>\n",
       "      <th>536373</th>\n",
       "      <th>536374</th>\n",
       "      <th>...</th>\n",
       "      <th>EIRE</th>\n",
       "      <th>France</th>\n",
       "      <th>Germany</th>\n",
       "      <th>InvoiceNo</th>\n",
       "      <th>Netherlands</th>\n",
       "      <th>Norway</th>\n",
       "      <th>Poland</th>\n",
       "      <th>Spain</th>\n",
       "      <th>Switzerland</th>\n",
       "      <th>United Kingdom</th>\n",
       "    </tr>\n",
       "  </thead>\n",
       "  <tbody>\n",
       "    <tr>\n",
       "      <th>0</th>\n",
       "      <td>False</td>\n",
       "      <td>False</td>\n",
       "      <td>False</td>\n",
       "      <td>False</td>\n",
       "      <td>False</td>\n",
       "      <td>False</td>\n",
       "      <td>False</td>\n",
       "      <td>False</td>\n",
       "      <td>False</td>\n",
       "      <td>False</td>\n",
       "      <td>...</td>\n",
       "      <td>False</td>\n",
       "      <td>False</td>\n",
       "      <td>False</td>\n",
       "      <td>True</td>\n",
       "      <td>False</td>\n",
       "      <td>False</td>\n",
       "      <td>False</td>\n",
       "      <td>False</td>\n",
       "      <td>False</td>\n",
       "      <td>False</td>\n",
       "    </tr>\n",
       "    <tr>\n",
       "      <th>1</th>\n",
       "      <td>True</td>\n",
       "      <td>False</td>\n",
       "      <td>False</td>\n",
       "      <td>False</td>\n",
       "      <td>False</td>\n",
       "      <td>False</td>\n",
       "      <td>False</td>\n",
       "      <td>False</td>\n",
       "      <td>False</td>\n",
       "      <td>False</td>\n",
       "      <td>...</td>\n",
       "      <td>False</td>\n",
       "      <td>False</td>\n",
       "      <td>False</td>\n",
       "      <td>False</td>\n",
       "      <td>False</td>\n",
       "      <td>False</td>\n",
       "      <td>False</td>\n",
       "      <td>False</td>\n",
       "      <td>False</td>\n",
       "      <td>True</td>\n",
       "    </tr>\n",
       "    <tr>\n",
       "      <th>2</th>\n",
       "      <td>True</td>\n",
       "      <td>False</td>\n",
       "      <td>False</td>\n",
       "      <td>False</td>\n",
       "      <td>False</td>\n",
       "      <td>False</td>\n",
       "      <td>False</td>\n",
       "      <td>False</td>\n",
       "      <td>False</td>\n",
       "      <td>False</td>\n",
       "      <td>...</td>\n",
       "      <td>False</td>\n",
       "      <td>False</td>\n",
       "      <td>False</td>\n",
       "      <td>False</td>\n",
       "      <td>False</td>\n",
       "      <td>False</td>\n",
       "      <td>False</td>\n",
       "      <td>False</td>\n",
       "      <td>False</td>\n",
       "      <td>True</td>\n",
       "    </tr>\n",
       "    <tr>\n",
       "      <th>3</th>\n",
       "      <td>True</td>\n",
       "      <td>False</td>\n",
       "      <td>False</td>\n",
       "      <td>False</td>\n",
       "      <td>False</td>\n",
       "      <td>False</td>\n",
       "      <td>False</td>\n",
       "      <td>False</td>\n",
       "      <td>False</td>\n",
       "      <td>False</td>\n",
       "      <td>...</td>\n",
       "      <td>False</td>\n",
       "      <td>False</td>\n",
       "      <td>False</td>\n",
       "      <td>False</td>\n",
       "      <td>False</td>\n",
       "      <td>False</td>\n",
       "      <td>False</td>\n",
       "      <td>False</td>\n",
       "      <td>False</td>\n",
       "      <td>True</td>\n",
       "    </tr>\n",
       "    <tr>\n",
       "      <th>4</th>\n",
       "      <td>True</td>\n",
       "      <td>False</td>\n",
       "      <td>False</td>\n",
       "      <td>False</td>\n",
       "      <td>False</td>\n",
       "      <td>False</td>\n",
       "      <td>False</td>\n",
       "      <td>False</td>\n",
       "      <td>False</td>\n",
       "      <td>False</td>\n",
       "      <td>...</td>\n",
       "      <td>False</td>\n",
       "      <td>False</td>\n",
       "      <td>False</td>\n",
       "      <td>False</td>\n",
       "      <td>False</td>\n",
       "      <td>False</td>\n",
       "      <td>False</td>\n",
       "      <td>False</td>\n",
       "      <td>False</td>\n",
       "      <td>True</td>\n",
       "    </tr>\n",
       "    <tr>\n",
       "      <th>...</th>\n",
       "      <td>...</td>\n",
       "      <td>...</td>\n",
       "      <td>...</td>\n",
       "      <td>...</td>\n",
       "      <td>...</td>\n",
       "      <td>...</td>\n",
       "      <td>...</td>\n",
       "      <td>...</td>\n",
       "      <td>...</td>\n",
       "      <td>...</td>\n",
       "      <td>...</td>\n",
       "      <td>...</td>\n",
       "      <td>...</td>\n",
       "      <td>...</td>\n",
       "      <td>...</td>\n",
       "      <td>...</td>\n",
       "      <td>...</td>\n",
       "      <td>...</td>\n",
       "      <td>...</td>\n",
       "      <td>...</td>\n",
       "      <td>...</td>\n",
       "    </tr>\n",
       "    <tr>\n",
       "      <th>6995</th>\n",
       "      <td>False</td>\n",
       "      <td>False</td>\n",
       "      <td>False</td>\n",
       "      <td>False</td>\n",
       "      <td>False</td>\n",
       "      <td>False</td>\n",
       "      <td>False</td>\n",
       "      <td>False</td>\n",
       "      <td>False</td>\n",
       "      <td>False</td>\n",
       "      <td>...</td>\n",
       "      <td>False</td>\n",
       "      <td>False</td>\n",
       "      <td>False</td>\n",
       "      <td>False</td>\n",
       "      <td>False</td>\n",
       "      <td>False</td>\n",
       "      <td>False</td>\n",
       "      <td>False</td>\n",
       "      <td>False</td>\n",
       "      <td>True</td>\n",
       "    </tr>\n",
       "    <tr>\n",
       "      <th>6996</th>\n",
       "      <td>False</td>\n",
       "      <td>False</td>\n",
       "      <td>False</td>\n",
       "      <td>False</td>\n",
       "      <td>False</td>\n",
       "      <td>False</td>\n",
       "      <td>False</td>\n",
       "      <td>False</td>\n",
       "      <td>False</td>\n",
       "      <td>False</td>\n",
       "      <td>...</td>\n",
       "      <td>False</td>\n",
       "      <td>False</td>\n",
       "      <td>False</td>\n",
       "      <td>False</td>\n",
       "      <td>False</td>\n",
       "      <td>False</td>\n",
       "      <td>False</td>\n",
       "      <td>False</td>\n",
       "      <td>False</td>\n",
       "      <td>True</td>\n",
       "    </tr>\n",
       "    <tr>\n",
       "      <th>6997</th>\n",
       "      <td>False</td>\n",
       "      <td>False</td>\n",
       "      <td>False</td>\n",
       "      <td>False</td>\n",
       "      <td>False</td>\n",
       "      <td>False</td>\n",
       "      <td>False</td>\n",
       "      <td>False</td>\n",
       "      <td>False</td>\n",
       "      <td>False</td>\n",
       "      <td>...</td>\n",
       "      <td>False</td>\n",
       "      <td>False</td>\n",
       "      <td>False</td>\n",
       "      <td>False</td>\n",
       "      <td>False</td>\n",
       "      <td>False</td>\n",
       "      <td>False</td>\n",
       "      <td>False</td>\n",
       "      <td>False</td>\n",
       "      <td>True</td>\n",
       "    </tr>\n",
       "    <tr>\n",
       "      <th>6998</th>\n",
       "      <td>False</td>\n",
       "      <td>False</td>\n",
       "      <td>False</td>\n",
       "      <td>False</td>\n",
       "      <td>False</td>\n",
       "      <td>False</td>\n",
       "      <td>False</td>\n",
       "      <td>False</td>\n",
       "      <td>False</td>\n",
       "      <td>False</td>\n",
       "      <td>...</td>\n",
       "      <td>False</td>\n",
       "      <td>False</td>\n",
       "      <td>False</td>\n",
       "      <td>False</td>\n",
       "      <td>False</td>\n",
       "      <td>False</td>\n",
       "      <td>False</td>\n",
       "      <td>False</td>\n",
       "      <td>False</td>\n",
       "      <td>True</td>\n",
       "    </tr>\n",
       "    <tr>\n",
       "      <th>6999</th>\n",
       "      <td>False</td>\n",
       "      <td>False</td>\n",
       "      <td>False</td>\n",
       "      <td>False</td>\n",
       "      <td>False</td>\n",
       "      <td>False</td>\n",
       "      <td>False</td>\n",
       "      <td>False</td>\n",
       "      <td>False</td>\n",
       "      <td>False</td>\n",
       "      <td>...</td>\n",
       "      <td>False</td>\n",
       "      <td>False</td>\n",
       "      <td>False</td>\n",
       "      <td>False</td>\n",
       "      <td>False</td>\n",
       "      <td>False</td>\n",
       "      <td>False</td>\n",
       "      <td>False</td>\n",
       "      <td>False</td>\n",
       "      <td>True</td>\n",
       "    </tr>\n",
       "  </tbody>\n",
       "</table>\n",
       "<p>7000 rows × 379 columns</p>\n",
       "</div>"
      ],
      "text/plain": [
       "      536365  536366  536367  536368  536369  536370  536371  536372  536373  \\\n",
       "0      False   False   False   False   False   False   False   False   False   \n",
       "1       True   False   False   False   False   False   False   False   False   \n",
       "2       True   False   False   False   False   False   False   False   False   \n",
       "3       True   False   False   False   False   False   False   False   False   \n",
       "4       True   False   False   False   False   False   False   False   False   \n",
       "...      ...     ...     ...     ...     ...     ...     ...     ...     ...   \n",
       "6995   False   False   False   False   False   False   False   False   False   \n",
       "6996   False   False   False   False   False   False   False   False   False   \n",
       "6997   False   False   False   False   False   False   False   False   False   \n",
       "6998   False   False   False   False   False   False   False   False   False   \n",
       "6999   False   False   False   False   False   False   False   False   False   \n",
       "\n",
       "      536374  ...   EIRE  France  Germany  InvoiceNo  Netherlands  Norway  \\\n",
       "0      False  ...  False   False    False       True        False   False   \n",
       "1      False  ...  False   False    False      False        False   False   \n",
       "2      False  ...  False   False    False      False        False   False   \n",
       "3      False  ...  False   False    False      False        False   False   \n",
       "4      False  ...  False   False    False      False        False   False   \n",
       "...      ...  ...    ...     ...      ...        ...          ...     ...   \n",
       "6995   False  ...  False   False    False      False        False   False   \n",
       "6996   False  ...  False   False    False      False        False   False   \n",
       "6997   False  ...  False   False    False      False        False   False   \n",
       "6998   False  ...  False   False    False      False        False   False   \n",
       "6999   False  ...  False   False    False      False        False   False   \n",
       "\n",
       "      Poland  Spain  Switzerland  United Kingdom  \n",
       "0      False  False        False           False  \n",
       "1      False  False        False            True  \n",
       "2      False  False        False            True  \n",
       "3      False  False        False            True  \n",
       "4      False  False        False            True  \n",
       "...      ...    ...          ...             ...  \n",
       "6995   False  False        False            True  \n",
       "6996   False  False        False            True  \n",
       "6997   False  False        False            True  \n",
       "6998   False  False        False            True  \n",
       "6999   False  False        False            True  \n",
       "\n",
       "[7000 rows x 379 columns]"
      ]
     },
     "execution_count": 21,
     "metadata": {},
     "output_type": "execute_result"
    }
   ],
   "source": [
    "#Сгенериуем паттерны\n",
    "import pandas as pd\n",
    "from mlxtend.preprocessing import TransactionEncoder\n",
    "\n",
    "te = TransactionEncoder()\n",
    "te_ary = te.fit(transactions).transform(transactions)\n",
    "df = pd.DataFrame(te_ary, columns=te.columns_)\n",
    "df"
   ]
  },
  {
   "cell_type": "code",
   "execution_count": 22,
   "metadata": {},
   "outputs": [
    {
     "data": {
      "text/html": [
       "<div>\n",
       "<style scoped>\n",
       "    .dataframe tbody tr th:only-of-type {\n",
       "        vertical-align: middle;\n",
       "    }\n",
       "\n",
       "    .dataframe tbody tr th {\n",
       "        vertical-align: top;\n",
       "    }\n",
       "\n",
       "    .dataframe thead th {\n",
       "        text-align: right;\n",
       "    }\n",
       "</style>\n",
       "<table border=\"1\" class=\"dataframe\">\n",
       "  <thead>\n",
       "    <tr style=\"text-align: right;\">\n",
       "      <th></th>\n",
       "      <th>support</th>\n",
       "      <th>itemsets</th>\n",
       "    </tr>\n",
       "  </thead>\n",
       "  <tbody>\n",
       "    <tr>\n",
       "      <th>0</th>\n",
       "      <td>0.953857</td>\n",
       "      <td>(378)</td>\n",
       "    </tr>\n",
       "    <tr>\n",
       "      <th>1</th>\n",
       "      <td>0.011571</td>\n",
       "      <td>(42)</td>\n",
       "    </tr>\n",
       "    <tr>\n",
       "      <th>2</th>\n",
       "      <td>0.012143</td>\n",
       "      <td>(53)</td>\n",
       "    </tr>\n",
       "    <tr>\n",
       "      <th>3</th>\n",
       "      <td>0.010143</td>\n",
       "      <td>(61)</td>\n",
       "    </tr>\n",
       "    <tr>\n",
       "      <th>4</th>\n",
       "      <td>0.010429</td>\n",
       "      <td>(374)</td>\n",
       "    </tr>\n",
       "    <tr>\n",
       "      <th>5</th>\n",
       "      <td>0.010429</td>\n",
       "      <td>(73)</td>\n",
       "    </tr>\n",
       "    <tr>\n",
       "      <th>6</th>\n",
       "      <td>0.015571</td>\n",
       "      <td>(369)</td>\n",
       "    </tr>\n",
       "    <tr>\n",
       "      <th>7</th>\n",
       "      <td>0.075286</td>\n",
       "      <td>(84)</td>\n",
       "    </tr>\n",
       "    <tr>\n",
       "      <th>8</th>\n",
       "      <td>0.084571</td>\n",
       "      <td>(131)</td>\n",
       "    </tr>\n",
       "    <tr>\n",
       "      <th>9</th>\n",
       "      <td>0.017286</td>\n",
       "      <td>(244)</td>\n",
       "    </tr>\n",
       "    <tr>\n",
       "      <th>10</th>\n",
       "      <td>0.010857</td>\n",
       "      <td>(280)</td>\n",
       "    </tr>\n",
       "    <tr>\n",
       "      <th>11</th>\n",
       "      <td>0.011571</td>\n",
       "      <td>(292)</td>\n",
       "    </tr>\n",
       "    <tr>\n",
       "      <th>12</th>\n",
       "      <td>0.020000</td>\n",
       "      <td>(295)</td>\n",
       "    </tr>\n",
       "    <tr>\n",
       "      <th>13</th>\n",
       "      <td>0.084714</td>\n",
       "      <td>(298)</td>\n",
       "    </tr>\n",
       "    <tr>\n",
       "      <th>14</th>\n",
       "      <td>0.010143</td>\n",
       "      <td>(324)</td>\n",
       "    </tr>\n",
       "    <tr>\n",
       "      <th>15</th>\n",
       "      <td>0.020714</td>\n",
       "      <td>(329)</td>\n",
       "    </tr>\n",
       "    <tr>\n",
       "      <th>16</th>\n",
       "      <td>0.011571</td>\n",
       "      <td>(42, 378)</td>\n",
       "    </tr>\n",
       "    <tr>\n",
       "      <th>17</th>\n",
       "      <td>0.012143</td>\n",
       "      <td>(378, 53)</td>\n",
       "    </tr>\n",
       "    <tr>\n",
       "      <th>18</th>\n",
       "      <td>0.010143</td>\n",
       "      <td>(378, 61)</td>\n",
       "    </tr>\n",
       "    <tr>\n",
       "      <th>19</th>\n",
       "      <td>0.010429</td>\n",
       "      <td>(73, 374)</td>\n",
       "    </tr>\n",
       "    <tr>\n",
       "      <th>20</th>\n",
       "      <td>0.075286</td>\n",
       "      <td>(378, 84)</td>\n",
       "    </tr>\n",
       "    <tr>\n",
       "      <th>21</th>\n",
       "      <td>0.084571</td>\n",
       "      <td>(378, 131)</td>\n",
       "    </tr>\n",
       "    <tr>\n",
       "      <th>22</th>\n",
       "      <td>0.017286</td>\n",
       "      <td>(378, 244)</td>\n",
       "    </tr>\n",
       "    <tr>\n",
       "      <th>23</th>\n",
       "      <td>0.010857</td>\n",
       "      <td>(280, 378)</td>\n",
       "    </tr>\n",
       "    <tr>\n",
       "      <th>24</th>\n",
       "      <td>0.011571</td>\n",
       "      <td>(378, 292)</td>\n",
       "    </tr>\n",
       "    <tr>\n",
       "      <th>25</th>\n",
       "      <td>0.020000</td>\n",
       "      <td>(378, 295)</td>\n",
       "    </tr>\n",
       "    <tr>\n",
       "      <th>26</th>\n",
       "      <td>0.084714</td>\n",
       "      <td>(298, 378)</td>\n",
       "    </tr>\n",
       "    <tr>\n",
       "      <th>27</th>\n",
       "      <td>0.010143</td>\n",
       "      <td>(369, 324)</td>\n",
       "    </tr>\n",
       "    <tr>\n",
       "      <th>28</th>\n",
       "      <td>0.020714</td>\n",
       "      <td>(329, 378)</td>\n",
       "    </tr>\n",
       "  </tbody>\n",
       "</table>\n",
       "</div>"
      ],
      "text/plain": [
       "     support    itemsets\n",
       "0   0.953857       (378)\n",
       "1   0.011571        (42)\n",
       "2   0.012143        (53)\n",
       "3   0.010143        (61)\n",
       "4   0.010429       (374)\n",
       "5   0.010429        (73)\n",
       "6   0.015571       (369)\n",
       "7   0.075286        (84)\n",
       "8   0.084571       (131)\n",
       "9   0.017286       (244)\n",
       "10  0.010857       (280)\n",
       "11  0.011571       (292)\n",
       "12  0.020000       (295)\n",
       "13  0.084714       (298)\n",
       "14  0.010143       (324)\n",
       "15  0.020714       (329)\n",
       "16  0.011571   (42, 378)\n",
       "17  0.012143   (378, 53)\n",
       "18  0.010143   (378, 61)\n",
       "19  0.010429   (73, 374)\n",
       "20  0.075286   (378, 84)\n",
       "21  0.084571  (378, 131)\n",
       "22  0.017286  (378, 244)\n",
       "23  0.010857  (280, 378)\n",
       "24  0.011571  (378, 292)\n",
       "25  0.020000  (378, 295)\n",
       "26  0.084714  (298, 378)\n",
       "27  0.010143  (369, 324)\n",
       "28  0.020714  (329, 378)"
      ]
     },
     "execution_count": 22,
     "metadata": {},
     "output_type": "execute_result"
    }
   ],
   "source": [
    "#Сгенериуем правила\n",
    "from mlxtend.frequent_patterns import fpgrowth\n",
    "\n",
    "fpgrowth(df, min_support=0.01)"
   ]
  },
  {
   "cell_type": "code",
   "execution_count": 23,
   "metadata": {},
   "outputs": [
    {
     "data": {
      "text/html": [
       "<div>\n",
       "<style scoped>\n",
       "    .dataframe tbody tr th:only-of-type {\n",
       "        vertical-align: middle;\n",
       "    }\n",
       "\n",
       "    .dataframe tbody tr th {\n",
       "        vertical-align: top;\n",
       "    }\n",
       "\n",
       "    .dataframe thead th {\n",
       "        text-align: right;\n",
       "    }\n",
       "</style>\n",
       "<table border=\"1\" class=\"dataframe\">\n",
       "  <thead>\n",
       "    <tr style=\"text-align: right;\">\n",
       "      <th></th>\n",
       "      <th>support</th>\n",
       "      <th>itemsets</th>\n",
       "    </tr>\n",
       "  </thead>\n",
       "  <tbody>\n",
       "    <tr>\n",
       "      <th>0</th>\n",
       "      <td>0.953857</td>\n",
       "      <td>(United Kingdom)</td>\n",
       "    </tr>\n",
       "  </tbody>\n",
       "</table>\n",
       "</div>"
      ],
      "text/plain": [
       "    support          itemsets\n",
       "0  0.953857  (United Kingdom)"
      ]
     },
     "execution_count": 23,
     "metadata": {},
     "output_type": "execute_result"
    }
   ],
   "source": [
    "fpgrowth(df, min_support=0.6, use_colnames=True)"
   ]
  },
  {
   "cell_type": "code",
   "execution_count": null,
   "metadata": {},
   "outputs": [],
   "source": []
  }
 ],
 "metadata": {
  "colab": {
   "name": "ARules.ipynb",
   "provenance": []
  },
  "kernelspec": {
   "display_name": "Python 3",
   "language": "python",
   "name": "python3"
  },
  "language_info": {
   "codemirror_mode": {
    "name": "ipython",
    "version": 3
   },
   "file_extension": ".py",
   "mimetype": "text/x-python",
   "name": "python",
   "nbconvert_exporter": "python",
   "pygments_lexer": "ipython3",
   "version": "3.8.3"
  }
 },
 "nbformat": 4,
 "nbformat_minor": 1
}
