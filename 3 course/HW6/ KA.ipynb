{
 "cells": [
  {
   "cell_type": "code",
   "execution_count": 2,
   "metadata": {},
   "outputs": [],
   "source": [
    "import pandas as pd\n",
    "import matplotlib.pyplot as plt\n",
    "import quantecon as qe\n",
    "import numpy as np\n",
    "from mpl_toolkits.mplot3d import Axes3D\n",
    "%matplotlib inline\n",
    "import networkx as nx "
   ]
  },
  {
   "cell_type": "code",
   "execution_count": 3,
   "metadata": {},
   "outputs": [],
   "source": [
    "P1=[[0.0232460593460577, 0.00560174845597652, 0.0467179883425076, 0.0665592773073191, 0.857874926548139],\n",
    "    [0.0136463870422535, 0.0490583821470984, 0.0166987360598636, 0.1296937249811, 0.790902769769684],\n",
    "    [0.0462073802724979, 0.00163516165267978, 0.0122184468821205, 0.00806716298524617, 0.931871848207456],\n",
    "    [0.0674564304316847, 0.118393449396849, 0.0945556903438833, 0.0289925763492009, 0.690601853478382],\n",
    "    [0.0719504828182986, 0.237872699666635, 0.137118006112976, 0.0391436205590491, 0.513915190843042]]"
   ]
  },
  {
   "cell_type": "code",
   "execution_count": 12,
   "metadata": {},
   "outputs": [],
   "source": [
    "mc1 = qe.MarkovChain(P1)"
   ]
  },
  {
   "cell_type": "code",
   "execution_count": 5,
   "metadata": {},
   "outputs": [
    {
     "data": {
      "text/plain": [
       "True"
      ]
     },
     "execution_count": 5,
     "metadata": {},
     "output_type": "execute_result"
    }
   ],
   "source": [
    "mc1.is_irreducible"
   ]
  },
  {
   "cell_type": "code",
   "execution_count": 6,
   "metadata": {},
   "outputs": [
    {
     "data": {
      "text/plain": [
       "1"
      ]
     },
     "execution_count": 6,
     "metadata": {},
     "output_type": "execute_result"
    }
   ],
   "source": [
    "mc1.num_communication_classes"
   ]
  },
  {
   "cell_type": "code",
   "execution_count": 7,
   "metadata": {},
   "outputs": [
    {
     "data": {
      "text/plain": [
       "[array([0, 1, 2, 3, 4])]"
      ]
     },
     "execution_count": 7,
     "metadata": {},
     "output_type": "execute_result"
    }
   ],
   "source": [
    "mc1.communication_classes"
   ]
  },
  {
   "cell_type": "code",
   "execution_count": 8,
   "metadata": {},
   "outputs": [
    {
     "data": {
      "text/plain": [
       "True"
      ]
     },
     "execution_count": 8,
     "metadata": {},
     "output_type": "execute_result"
    }
   ],
   "source": [
    "mc1.is_aperiodic"
   ]
  },
  {
   "cell_type": "code",
   "execution_count": 9,
   "metadata": {},
   "outputs": [
    {
     "data": {
      "text/plain": [
       "1"
      ]
     },
     "execution_count": 9,
     "metadata": {},
     "output_type": "execute_result"
    }
   ],
   "source": [
    "mc1.period"
   ]
  },
  {
   "cell_type": "code",
   "execution_count": 10,
   "metadata": {},
   "outputs": [
    {
     "data": {
      "text/plain": [
       "array([[0.05685   , 0.16432959, 0.09776552, 0.05201604, 0.62903885]])"
      ]
     },
     "execution_count": 10,
     "metadata": {},
     "output_type": "execute_result"
    }
   ],
   "source": [
    "mc1.stationary_distributions"
   ]
  },
  {
   "cell_type": "code",
   "execution_count": 11,
   "metadata": {},
   "outputs": [],
   "source": [
    "P2=[[0.003407870408, 0.01806985987, 0.01954364792, 0.01666851099, 0.9423101108],\n",
    "    [0.04513286019, 0.03464884503, 0.004095797233, 0.002455417135, 0.9136670804],\n",
    "    [0.04253086727, 0.003216659271, 0.1020704951, 0.005207838836, 0.8469741396],\n",
    "    [0.05805748631, 0.01464032011, 0.004289838442, 0.02608821783, 0.8969241373],\n",
    "    [0.04400335537, 0.05817956438, 0.004399909611, 0.01972704556, 0.8736901251]]"
   ]
  },
  {
   "cell_type": "code",
   "execution_count": 22,
   "metadata": {},
   "outputs": [],
   "source": [
    "mc2 = qe.MarkovChain(P2)"
   ]
  },
  {
   "cell_type": "code",
   "execution_count": 23,
   "metadata": {},
   "outputs": [
    {
     "data": {
      "text/plain": [
       "True"
      ]
     },
     "execution_count": 23,
     "metadata": {},
     "output_type": "execute_result"
    }
   ],
   "source": [
    "mc2.is_irreducible"
   ]
  },
  {
   "cell_type": "code",
   "execution_count": 24,
   "metadata": {},
   "outputs": [
    {
     "data": {
      "text/plain": [
       "1"
      ]
     },
     "execution_count": 24,
     "metadata": {},
     "output_type": "execute_result"
    }
   ],
   "source": [
    "mc2.num_communication_classes"
   ]
  },
  {
   "cell_type": "code",
   "execution_count": 25,
   "metadata": {},
   "outputs": [
    {
     "data": {
      "text/plain": [
       "[array([0, 1, 2, 3, 4])]"
      ]
     },
     "execution_count": 25,
     "metadata": {},
     "output_type": "execute_result"
    }
   ],
   "source": [
    "mc2.communication_classes"
   ]
  },
  {
   "cell_type": "code",
   "execution_count": 26,
   "metadata": {},
   "outputs": [
    {
     "data": {
      "text/plain": [
       "True"
      ]
     },
     "execution_count": 26,
     "metadata": {},
     "output_type": "execute_result"
    }
   ],
   "source": [
    "mc2.is_aperiodic"
   ]
  },
  {
   "cell_type": "code",
   "execution_count": 27,
   "metadata": {},
   "outputs": [
    {
     "data": {
      "text/plain": [
       "1"
      ]
     },
     "execution_count": 27,
     "metadata": {},
     "output_type": "execute_result"
    }
   ],
   "source": [
    "mc2.period"
   ]
  },
  {
   "cell_type": "code",
   "execution_count": 28,
   "metadata": {},
   "outputs": [
    {
     "data": {
      "text/plain": [
       "array([[0.04259009, 0.0540784 , 0.00557045, 0.01870084, 0.87906022]])"
      ]
     },
     "execution_count": 28,
     "metadata": {},
     "output_type": "execute_result"
    }
   ],
   "source": [
    "mc2.stationary_distributions"
   ]
  },
  {
   "cell_type": "code",
   "execution_count": 21,
   "metadata": {},
   "outputs": [],
   "source": [
    "P3=[[0.03981050242,0.06495668917,0.03857361881,0.03042645428,0.8262327353],\n",
    "    [0.02784335616,0.007737903625,0.005239314131,0.01637654126,0.9428028848],\n",
    "    [0.09831946025,0.05926588909,0.05143485484,0.1005747777,0.6904050181],\n",
    "    [0.03524268554,0.04474536887,0.06311672581,0.05203553997,0.8048596798],\n",
    "    [0.04109990146,0.02135395227,0.04146709912,0.03515125786,0.8609277893]]"
   ]
  },
  {
   "cell_type": "code",
   "execution_count": 31,
   "metadata": {},
   "outputs": [
    {
     "name": "stdout",
     "output_type": "stream",
     "text": [
      "mc3.period 1\n",
      "mc3.is_irreducible True\n",
      "mc3.num_communication_classes 1\n",
      "mc3.communication_classes [array([0, 1, 2, 3, 4])]\n",
      "mc3.is_aperiodic True\n",
      "mc3.stationary_distributions [[0.04287078 0.02534262 0.04165936 0.03783726 0.85228998]]\n"
     ]
    }
   ],
   "source": [
    "mc3 = qe.MarkovChain(P3)\n",
    "print('mc3.period',mc3.period)\n",
    "print('mc3.is_irreducible',mc3.is_irreducible)\n",
    "print('mc3.num_communication_classes',mc3.num_communication_classes)\n",
    "print('mc3.communication_classes',mc3.communication_classes)\n",
    "print('mc3.is_aperiodic',mc3.is_aperiodic)\n",
    "print('mc3.stationary_distributions',mc3.stationary_distributions)"
   ]
  },
  {
   "cell_type": "code",
   "execution_count": 32,
   "metadata": {},
   "outputs": [],
   "source": [
    "P4=[[0.0355290328,0.04511749448,0.02287085724,0.01315736716,0.8833252483],\n",
    "    [0.01868372706,0.1299598041,0.1203421242,0.0682766782,0.6627376665],\n",
    "    [0.005528940424,0.0389864698,0.03167713187,0.02736129022,0.8964461677],\n",
    "    [0.1451803416,0.03038348942,0.0268245473,0.06509280771,0.7325188139],\n",
    "    [0.07278494759,0.07677333778,0.008415631524,0.03454222864,0.8074838545]]"
   ]
  },
  {
   "cell_type": "code",
   "execution_count": 33,
   "metadata": {},
   "outputs": [
    {
     "name": "stdout",
     "output_type": "stream",
     "text": [
      "mc4.period 1\n",
      "mc4.is_irreducible True\n",
      "mc4.num_communication_classes 1\n",
      "mc4.communication_classes [array([0, 1, 2, 3, 4])]\n",
      "mc4.is_aperiodic True\n",
      "mc4.stationary_distributions [[0.06751578 0.07627264 0.01904633 0.03665447 0.80051077]]\n"
     ]
    }
   ],
   "source": [
    "mc4 = qe.MarkovChain(P4)\n",
    "print('mc4.period-',mc4.period)\n",
    "print('mc4.is_irreducible-',mc4.is_irreducible)\n",
    "print('mc4.num_communication_classes-',mc4.num_communication_classes)\n",
    "print('mc4.communication_classes-',mc4.communication_classes)\n",
    "print('mc4.is_aperiodic-',mc4.is_aperiodic)\n",
    "print('mc4.stationary_distributions-',mc4.stationary_distributions)"
   ]
  },
  {
   "cell_type": "code",
   "execution_count": 34,
   "metadata": {},
   "outputs": [],
   "source": [
    "P5=[[0,0.2197192828,0.196783264,0.2492150375,0.3342824158],\n",
    "    [0.2774944612,0,0.2612031801,0.2218092767,0.2394930821],\n",
    "    [0.08406331128,0.171050228,0.5547862007,0,0.19010026],\n",
    "    [0,0.08507360996,0.2230691724,0.332791398,0.3590658196],\n",
    "    [0,0.2576231624,0.1501625937,0.4686043822,0.1236098617]]"
   ]
  },
  {
   "cell_type": "code",
   "execution_count": 35,
   "metadata": {},
   "outputs": [
    {
     "name": "stdout",
     "output_type": "stream",
     "text": [
      "mc5.period- 1\n",
      "mc5.is_irreducible- True\n",
      "mc5.num_communication_classes- 1\n",
      "mc5.communication_classes- [array([0, 1, 2, 3, 4])]\n",
      "mc5.is_aperiodic- True\n",
      "mc5.stationary_distributions- [[0.06765271 0.14858183 0.3143116  0.23754354 0.23191032]]\n"
     ]
    }
   ],
   "source": [
    "mc5 = qe.MarkovChain(P5)\n",
    "print('mc5.period-',mc5.period)\n",
    "print('mc5.is_irreducible-',mc5.is_irreducible)\n",
    "print('mc5.num_communication_classes-',mc5.num_communication_classes)\n",
    "print('mc5.communication_classes-',mc5.communication_classes)\n",
    "print('mc5.is_aperiodic-',mc5.is_aperiodic)\n",
    "print('mc5.stationary_distributions-',mc5.stationary_distributions)"
   ]
  },
  {
   "cell_type": "code",
   "execution_count": 36,
   "metadata": {},
   "outputs": [],
   "source": [
    "P6=[[0.04093156809,0.04848782226,0.01811129584,0.04667921601,0.8457900978],\n",
    "    [0.01979243132,0.08594862759,0.04605026383,0.0391250939,0.8090835834],\n",
    "    [0.05491338482,0.04519347815,0.005125657309,0.04394498524,0.8508224945],\n",
    "    [0.03964469824,0.0517019057,0.004791790746,0.01350249567,0.8903591096],\n",
    "    [0.1155835332,0.1117185882,0.07976275684,0.04276391592,0.6501712059]]"
   ]
  },
  {
   "cell_type": "code",
   "execution_count": 37,
   "metadata": {},
   "outputs": [
    {
     "name": "stdout",
     "output_type": "stream",
     "text": [
      "mc6.period- 1\n",
      "mc6.is_irreducible- True\n",
      "mc6.num_communication_classes- 1\n",
      "mc6.communication_classes- [array([0, 1, 2, 3, 4])]\n",
      "mc6.is_aperiodic- True\n",
      "mc6.stationary_distributions- [[0.09243799 0.09669347 0.06298218 0.04163022 0.70625614]]\n"
     ]
    }
   ],
   "source": [
    "mc6 = qe.MarkovChain(P6)\n",
    "print('mc6.period-',mc6.period)\n",
    "print('mc6.is_irreducible-',mc6.is_irreducible)\n",
    "print('mc6.num_communication_classes-',mc6.num_communication_classes)\n",
    "print('mc6.communication_classes-',mc6.communication_classes)\n",
    "print('mc6.is_aperiodic-',mc6.is_aperiodic)\n",
    "print('mc6.stationary_distributions-',mc6.stationary_distributions)"
   ]
  },
  {
   "cell_type": "code",
   "execution_count": 38,
   "metadata": {},
   "outputs": [],
   "source": [
    "P7=[[0.00685563054,0.01640025695,0.05036619569,0.01733671135,0.9090412055],\n",
    "    [0.04307637385,0.04898340216,0.01226181288,0.02336216372,0.8723162474],\n",
    "    [0.04578771588,0.02969407768,0.01169955505,0.01928774273,0.8935309087],\n",
    "    [0.006429347006,0.162530292,0.02697881973,0.08820610567,0.7158554356],\n",
    "    [0.004705016515,0.006198664368,0.04393713989,0.01195245438,0.9332067248]]"
   ]
  },
  {
   "cell_type": "code",
   "execution_count": 39,
   "metadata": {},
   "outputs": [
    {
     "name": "stdout",
     "output_type": "stream",
     "text": [
      "mc7.period- 1\n",
      "mc7.is_irreducible- True\n",
      "mc7.num_communication_classes- 1\n",
      "mc7.communication_classes- [array([0, 1, 2, 3, 4])]\n",
      "mc7.is_aperiodic- True\n",
      "mc7.stationary_distributions- [[0.00684706 0.00977577 0.04208691 0.01343397 0.92785629]]\n"
     ]
    }
   ],
   "source": [
    "mc7 = qe.MarkovChain(P7)\n",
    "print('mc7.period-',mc7.period)\n",
    "print('mc7.is_irreducible-',mc7.is_irreducible)\n",
    "print('mc7.num_communication_classes-',mc7.num_communication_classes)\n",
    "print('mc7.communication_classes-',mc7.communication_classes)\n",
    "print('mc7.is_aperiodic-',mc7.is_aperiodic)\n",
    "print('mc7.stationary_distributions-',mc7.stationary_distributions)"
   ]
  },
  {
   "cell_type": "code",
   "execution_count": 40,
   "metadata": {},
   "outputs": [],
   "source": [
    "P8=[[0.034966972, 0.019001252, 0.007437212, 0.021869966, 0.916724599],\n",
    "    [0.067111946, 0.038841389, 0.03761967, 0.004851325, 0.85157567],\n",
    "    [0.178412305, 0.056370555, 0.053259225, 0.013091102, 0.698866812],\n",
    "    [0.033934975, 0.041621044, 0.044161263, 0.023206893, 0.857075826],\n",
    "    [0.006062262, 0.01045856, 0.011370976, 0.036688231, 0.935419971]]"
   ]
  },
  {
   "cell_type": "code",
   "execution_count": 41,
   "metadata": {},
   "outputs": [
    {
     "name": "stdout",
     "output_type": "stream",
     "text": [
      "mc8.period- 1\n",
      "mc8.is_irreducible- True\n",
      "mc8.num_communication_classes- 1\n",
      "mc8.communication_classes- [array([0, 1, 2, 3, 4])]\n",
      "mc8.is_aperiodic- True\n",
      "mc8.stationary_distributions- [[0.01042529 0.01262145 0.01338055 0.03533975 0.92823296]]\n"
     ]
    }
   ],
   "source": [
    "mc8 = qe.MarkovChain(P8)\n",
    "print('mc8.period-',mc8.period)\n",
    "print('mc8.is_irreducible-',mc8.is_irreducible)\n",
    "print('mc8.num_communication_classes-',mc8.num_communication_classes)\n",
    "print('mc8.communication_classes-',mc8.communication_classes)\n",
    "print('mc8.is_aperiodic-',mc8.is_aperiodic)\n",
    "print('mc8.stationary_distributions-',mc8.stationary_distributions)"
   ]
  },
  {
   "cell_type": "code",
   "execution_count": 42,
   "metadata": {},
   "outputs": [],
   "source": [
    "P9=[[0.0419112, 0.003273838, 0.041035509, 0.019802569, 0.893976885],\n",
    "    [0.012829874, 0.070892343, 0.020464444, 0.078811859, 0.817001481],\n",
    "    [0.027566398, 0.006963401, 0.038209462, 0.03657016, 0.890690579],\n",
    "    [0.061322262, 0.044443321, 0.012987395, 0.028002219, 0.853244804],\n",
    "    [0.018514438, 0.110838406, 0.025720436, 0.015568023, 0.829358697]]"
   ]
  },
  {
   "cell_type": "code",
   "execution_count": 43,
   "metadata": {},
   "outputs": [
    {
     "name": "stdout",
     "output_type": "stream",
     "text": [
      "mc9.period- 1\n",
      "mc9.is_irreducible- True\n",
      "mc9.num_communication_classes- 1\n",
      "mc9.communication_classes- [array([0, 1, 2, 3, 4])]\n",
      "mc9.is_aperiodic- True\n",
      "mc9.stationary_distributions- [[0.01960999 0.10054594 0.02552033 0.02282983 0.83149392]]\n"
     ]
    }
   ],
   "source": [
    "mc9 = qe.MarkovChain(P9)\n",
    "print('mc9.period-',mc9.period)\n",
    "print('mc9.is_irreducible-',mc9.is_irreducible)\n",
    "print('mc9.num_communication_classes-',mc9.num_communication_classes)\n",
    "print('mc9.communication_classes-',mc9.communication_classes)\n",
    "print('mc9.is_aperiodic-',mc9.is_aperiodic)\n",
    "print('mc9.stationary_distributions-',mc9.stationary_distributions)"
   ]
  },
  {
   "cell_type": "code",
   "execution_count": 44,
   "metadata": {},
   "outputs": [],
   "source": [
    "P10=[[0.228901671, 0.221733522, 0.175340485, 0.013376556, 0.360647767],\n",
    "    [0.073214279, 0.028177224, 0.044248129, 0.085496174, 0.768864195],\n",
    "    [0.187588521, 0.020114865, 0.199761555, 0.130093468, 0.462441592],\n",
    "    [0.047096905, 0.061240716, 0.016299118, 0.003087759, 0.872275502],\n",
    "    [0.046517333, 0.061923098, 0.047143953, 0.001016453, 0.843399164]]"
   ]
  },
  {
   "cell_type": "code",
   "execution_count": 45,
   "metadata": {},
   "outputs": [
    {
     "name": "stdout",
     "output_type": "stream",
     "text": [
      "mc10.period- 1\n",
      "mc10.is_irreducible- True\n",
      "mc10.num_communication_classes- 1\n",
      "mc10.communication_classes- [array([0, 1, 2, 3, 4])]\n",
      "mc10.is_aperiodic- True\n",
      "mc10.stationary_distributions- [[0.070426   0.06813062 0.06546939 0.01612658 0.77984742]]\n"
     ]
    }
   ],
   "source": [
    "mc10 = qe.MarkovChain(P10)\n",
    "print('mc10.period-',mc10.period)\n",
    "print('mc10.is_irreducible-',mc10.is_irreducible)\n",
    "print('mc10.num_communication_classes-',mc10.num_communication_classes)\n",
    "print('mc10.communication_classes-',mc10.communication_classes)\n",
    "print('mc10.is_aperiodic-',mc10.is_aperiodic)\n",
    "print('mc10.stationary_distributions-',mc10.stationary_distributions)"
   ]
  },
  {
   "cell_type": "code",
   "execution_count": null,
   "metadata": {},
   "outputs": [],
   "source": []
  }
 ],
 "metadata": {
  "kernelspec": {
   "display_name": "Python 3",
   "language": "python",
   "name": "python3"
  },
  "language_info": {
   "codemirror_mode": {
    "name": "ipython",
    "version": 3
   },
   "file_extension": ".py",
   "mimetype": "text/x-python",
   "name": "python",
   "nbconvert_exporter": "python",
   "pygments_lexer": "ipython3",
   "version": "3.7.7"
  }
 },
 "nbformat": 4,
 "nbformat_minor": 4
}
