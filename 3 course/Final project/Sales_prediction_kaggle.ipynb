{
 "cells": [
  {
   "cell_type": "markdown",
   "metadata": {
    "colab_type": "text",
    "id": "LRDFWR_o0PRC"
   },
   "source": [
    "# <a href=\"https://www.kaggle.com/c/competitive-data-science-predict-future-sales\">Предсказание будущих продаж</a>"
   ]
  },
  {
   "cell_type": "markdown",
   "metadata": {},
   "source": [
    "**Задача:***\n",
    "``Вам предоставляются ежедневные исторические данные о продажах. Задача состоит в прогнозировании общего количества продуктов, проданных в каждом магазине для тестового набора.``"
   ]
  },
  {
   "cell_type": "markdown",
   "metadata": {},
   "source": [
    "**Описание файлов**: \n",
    "\n",
    "- ``sales_train.csv`` - обучающий набор. Ежедневные исторические данные с января 2013 года по октябрь 2015 года.\n",
    "- ``test.csv`` -  тестовый набор. Вам необходимо спрогнозировать продажи этих магазинов и продуктов на ноябрь 2015 года.\n",
    "- ``sample_submission.csv`` - файл с примерами представления в правильном формате.\n",
    "- ``items.csv``  - дополнительная информация о товарах / товарах.\n",
    "- ``item_categories.csv``  - дополнительная информация о категориях товаров.\n",
    "- ``shops.csv``- дополнительная информация о магазинах.\n",
    "\n",
    "**Поля данных**: \n",
    "\n",
    "- ``ID``- идентификатор, который представляет кортеж (магазин, товар) в тестовом наборе\n",
    "- ``shop_id`` - уникальный идентификатор магазина\n",
    "- ``item_id`` - уникальный идентификатор товара\n",
    "- ``item_category_id``  - уникальный идентификатор категории товара\n",
    "- ``item_cnt_day`` - количество проданных товаров. Вы прогнозируете ежемесячную сумму этой меры\n",
    "- ``item_price``  - текущая цена товара\n",
    "- ``data`` - дата в формате дд / мм / гггг\n",
    "- ``date_block_num`` - порядковый номер месяца, используемый для удобства. В январе 2013 года - 0, в феврале 2013 года - 1, ..., в октябре 2015 года - 33\n",
    "- ``item_name`` - название предмета\n",
    "- ``shop_name``  - название магазина\n",
    "- ``item_category_name`` - название категории товара"
   ]
  },
  {
   "cell_type": "markdown",
   "metadata": {},
   "source": [
    "Подключим все необходимые библиотеки для обработки данных"
   ]
  },
  {
   "cell_type": "code",
   "execution_count": 1,
   "metadata": {
    "colab": {},
    "colab_type": "code",
    "id": "SwiQ-jBDkGj9"
   },
   "outputs": [],
   "source": [
    "import gc # сборщик мусора для удаления ненужных данных в оперативной памяти\n",
    "import pandas as pd\n",
    "import numpy as np\n",
    "import matplotlib.pyplot as plt\n",
    "import seaborn as sns\n",
    "import warnings"
   ]
  },
  {
   "cell_type": "markdown",
   "metadata": {
    "colab_type": "text",
    "id": "j9xc2Pyyr0B1"
   },
   "source": [
    "# Проверка данных"
   ]
  },
  {
   "cell_type": "markdown",
   "metadata": {
    "colab_type": "text",
    "id": "zdmzt6Yy0nDw"
   },
   "source": [
    "Загружаем наши данные, просмотрим их и проверяем на наличие пустых значений"
   ]
  },
  {
   "cell_type": "code",
   "execution_count": 26,
   "metadata": {
    "colab": {},
    "colab_type": "code",
    "id": "3W2WGGOJkwIL"
   },
   "outputs": [],
   "source": [
    "train = pd.read_csv(r'./datasets/sales_train.csv')\n",
    "test = pd.read_csv(r'./datasets/test.csv')\n",
    "sample_sub = pd.read_csv(r'./datasets/sample_submission.csv')\n",
    "items = pd.read_csv(r'./datasets/items.csv')\n",
    "items_cat = pd.read_csv(r'./datasets/item_categories.csv')\n",
    "shops = pd.read_csv(r'./datasets/shops.csv')"
   ]
  },
  {
   "cell_type": "code",
   "execution_count": 4,
   "metadata": {
    "colab": {
     "base_uri": "https://localhost:8080/",
     "height": 206
    },
    "colab_type": "code",
    "id": "0h6U4lrUmnLz",
    "outputId": "151aa34c-7463-43c0-c2cf-337b8967c4ef"
   },
   "outputs": [
    {
     "data": {
      "text/html": [
       "<div>\n",
       "<style scoped>\n",
       "    .dataframe tbody tr th:only-of-type {\n",
       "        vertical-align: middle;\n",
       "    }\n",
       "\n",
       "    .dataframe tbody tr th {\n",
       "        vertical-align: top;\n",
       "    }\n",
       "\n",
       "    .dataframe thead th {\n",
       "        text-align: right;\n",
       "    }\n",
       "</style>\n",
       "<table border=\"1\" class=\"dataframe\">\n",
       "  <thead>\n",
       "    <tr style=\"text-align: right;\">\n",
       "      <th></th>\n",
       "      <th>item_category_name</th>\n",
       "      <th>item_category_id</th>\n",
       "    </tr>\n",
       "  </thead>\n",
       "  <tbody>\n",
       "    <tr>\n",
       "      <th>0</th>\n",
       "      <td>PC - Гарнитуры/Наушники</td>\n",
       "      <td>0</td>\n",
       "    </tr>\n",
       "    <tr>\n",
       "      <th>1</th>\n",
       "      <td>Аксессуары - PS2</td>\n",
       "      <td>1</td>\n",
       "    </tr>\n",
       "    <tr>\n",
       "      <th>2</th>\n",
       "      <td>Аксессуары - PS3</td>\n",
       "      <td>2</td>\n",
       "    </tr>\n",
       "    <tr>\n",
       "      <th>3</th>\n",
       "      <td>Аксессуары - PS4</td>\n",
       "      <td>3</td>\n",
       "    </tr>\n",
       "    <tr>\n",
       "      <th>4</th>\n",
       "      <td>Аксессуары - PSP</td>\n",
       "      <td>4</td>\n",
       "    </tr>\n",
       "  </tbody>\n",
       "</table>\n",
       "</div>"
      ],
      "text/plain": [
       "        item_category_name  item_category_id\n",
       "0  PC - Гарнитуры/Наушники                 0\n",
       "1         Аксессуары - PS2                 1\n",
       "2         Аксессуары - PS3                 2\n",
       "3         Аксессуары - PS4                 3\n",
       "4         Аксессуары - PSP                 4"
      ]
     },
     "execution_count": 4,
     "metadata": {},
     "output_type": "execute_result"
    }
   ],
   "source": [
    "items_cat.head()"
   ]
  },
  {
   "cell_type": "code",
   "execution_count": 5,
   "metadata": {
    "colab": {
     "base_uri": "https://localhost:8080/",
     "height": 206
    },
    "colab_type": "code",
    "id": "hhfOjviNmzyC",
    "outputId": "19e85a7c-60aa-4ed2-bd4d-2f8db84d4d4e"
   },
   "outputs": [
    {
     "data": {
      "text/html": [
       "<div>\n",
       "<style scoped>\n",
       "    .dataframe tbody tr th:only-of-type {\n",
       "        vertical-align: middle;\n",
       "    }\n",
       "\n",
       "    .dataframe tbody tr th {\n",
       "        vertical-align: top;\n",
       "    }\n",
       "\n",
       "    .dataframe thead th {\n",
       "        text-align: right;\n",
       "    }\n",
       "</style>\n",
       "<table border=\"1\" class=\"dataframe\">\n",
       "  <thead>\n",
       "    <tr style=\"text-align: right;\">\n",
       "      <th></th>\n",
       "      <th>item_name</th>\n",
       "      <th>item_id</th>\n",
       "      <th>item_category_id</th>\n",
       "    </tr>\n",
       "  </thead>\n",
       "  <tbody>\n",
       "    <tr>\n",
       "      <th>0</th>\n",
       "      <td>! ВО ВЛАСТИ НАВАЖДЕНИЯ (ПЛАСТ.)         D</td>\n",
       "      <td>0</td>\n",
       "      <td>40</td>\n",
       "    </tr>\n",
       "    <tr>\n",
       "      <th>1</th>\n",
       "      <td>!ABBYY FineReader 12 Professional Edition Full...</td>\n",
       "      <td>1</td>\n",
       "      <td>76</td>\n",
       "    </tr>\n",
       "    <tr>\n",
       "      <th>2</th>\n",
       "      <td>***В ЛУЧАХ СЛАВЫ   (UNV)                    D</td>\n",
       "      <td>2</td>\n",
       "      <td>40</td>\n",
       "    </tr>\n",
       "    <tr>\n",
       "      <th>3</th>\n",
       "      <td>***ГОЛУБАЯ ВОЛНА  (Univ)                      D</td>\n",
       "      <td>3</td>\n",
       "      <td>40</td>\n",
       "    </tr>\n",
       "    <tr>\n",
       "      <th>4</th>\n",
       "      <td>***КОРОБКА (СТЕКЛО)                       D</td>\n",
       "      <td>4</td>\n",
       "      <td>40</td>\n",
       "    </tr>\n",
       "  </tbody>\n",
       "</table>\n",
       "</div>"
      ],
      "text/plain": [
       "                                           item_name  item_id  \\\n",
       "0          ! ВО ВЛАСТИ НАВАЖДЕНИЯ (ПЛАСТ.)         D        0   \n",
       "1  !ABBYY FineReader 12 Professional Edition Full...        1   \n",
       "2      ***В ЛУЧАХ СЛАВЫ   (UNV)                    D        2   \n",
       "3    ***ГОЛУБАЯ ВОЛНА  (Univ)                      D        3   \n",
       "4        ***КОРОБКА (СТЕКЛО)                       D        4   \n",
       "\n",
       "   item_category_id  \n",
       "0                40  \n",
       "1                76  \n",
       "2                40  \n",
       "3                40  \n",
       "4                40  "
      ]
     },
     "execution_count": 5,
     "metadata": {},
     "output_type": "execute_result"
    }
   ],
   "source": [
    "items.head()"
   ]
  },
  {
   "cell_type": "code",
   "execution_count": 6,
   "metadata": {
    "colab": {
     "base_uri": "https://localhost:8080/",
     "height": 206
    },
    "colab_type": "code",
    "id": "SwGAOysnm1TT",
    "outputId": "d5ba3a32-0c0c-42c3-bcf3-244d3933fa4c"
   },
   "outputs": [
    {
     "data": {
      "text/html": [
       "<div>\n",
       "<style scoped>\n",
       "    .dataframe tbody tr th:only-of-type {\n",
       "        vertical-align: middle;\n",
       "    }\n",
       "\n",
       "    .dataframe tbody tr th {\n",
       "        vertical-align: top;\n",
       "    }\n",
       "\n",
       "    .dataframe thead th {\n",
       "        text-align: right;\n",
       "    }\n",
       "</style>\n",
       "<table border=\"1\" class=\"dataframe\">\n",
       "  <thead>\n",
       "    <tr style=\"text-align: right;\">\n",
       "      <th></th>\n",
       "      <th>date</th>\n",
       "      <th>date_block_num</th>\n",
       "      <th>shop_id</th>\n",
       "      <th>item_id</th>\n",
       "      <th>item_price</th>\n",
       "      <th>item_cnt_day</th>\n",
       "    </tr>\n",
       "  </thead>\n",
       "  <tbody>\n",
       "    <tr>\n",
       "      <th>0</th>\n",
       "      <td>02.01.2013</td>\n",
       "      <td>0</td>\n",
       "      <td>59</td>\n",
       "      <td>22154</td>\n",
       "      <td>999.00</td>\n",
       "      <td>1.0</td>\n",
       "    </tr>\n",
       "    <tr>\n",
       "      <th>1</th>\n",
       "      <td>03.01.2013</td>\n",
       "      <td>0</td>\n",
       "      <td>25</td>\n",
       "      <td>2552</td>\n",
       "      <td>899.00</td>\n",
       "      <td>1.0</td>\n",
       "    </tr>\n",
       "    <tr>\n",
       "      <th>2</th>\n",
       "      <td>05.01.2013</td>\n",
       "      <td>0</td>\n",
       "      <td>25</td>\n",
       "      <td>2552</td>\n",
       "      <td>899.00</td>\n",
       "      <td>-1.0</td>\n",
       "    </tr>\n",
       "    <tr>\n",
       "      <th>3</th>\n",
       "      <td>06.01.2013</td>\n",
       "      <td>0</td>\n",
       "      <td>25</td>\n",
       "      <td>2554</td>\n",
       "      <td>1709.05</td>\n",
       "      <td>1.0</td>\n",
       "    </tr>\n",
       "    <tr>\n",
       "      <th>4</th>\n",
       "      <td>15.01.2013</td>\n",
       "      <td>0</td>\n",
       "      <td>25</td>\n",
       "      <td>2555</td>\n",
       "      <td>1099.00</td>\n",
       "      <td>1.0</td>\n",
       "    </tr>\n",
       "  </tbody>\n",
       "</table>\n",
       "</div>"
      ],
      "text/plain": [
       "         date  date_block_num  shop_id  item_id  item_price  item_cnt_day\n",
       "0  02.01.2013               0       59    22154      999.00           1.0\n",
       "1  03.01.2013               0       25     2552      899.00           1.0\n",
       "2  05.01.2013               0       25     2552      899.00          -1.0\n",
       "3  06.01.2013               0       25     2554     1709.05           1.0\n",
       "4  15.01.2013               0       25     2555     1099.00           1.0"
      ]
     },
     "execution_count": 6,
     "metadata": {},
     "output_type": "execute_result"
    }
   ],
   "source": [
    "train.head()"
   ]
  },
  {
   "cell_type": "code",
   "execution_count": 7,
   "metadata": {
    "colab": {
     "base_uri": "https://localhost:8080/",
     "height": 206
    },
    "colab_type": "code",
    "id": "d9MaAdm-m2wz",
    "outputId": "ed974412-835e-481c-a649-62784d1b175f"
   },
   "outputs": [
    {
     "data": {
      "text/html": [
       "<div>\n",
       "<style scoped>\n",
       "    .dataframe tbody tr th:only-of-type {\n",
       "        vertical-align: middle;\n",
       "    }\n",
       "\n",
       "    .dataframe tbody tr th {\n",
       "        vertical-align: top;\n",
       "    }\n",
       "\n",
       "    .dataframe thead th {\n",
       "        text-align: right;\n",
       "    }\n",
       "</style>\n",
       "<table border=\"1\" class=\"dataframe\">\n",
       "  <thead>\n",
       "    <tr style=\"text-align: right;\">\n",
       "      <th></th>\n",
       "      <th>ID</th>\n",
       "      <th>item_cnt_month</th>\n",
       "    </tr>\n",
       "  </thead>\n",
       "  <tbody>\n",
       "    <tr>\n",
       "      <th>0</th>\n",
       "      <td>0</td>\n",
       "      <td>0.5</td>\n",
       "    </tr>\n",
       "    <tr>\n",
       "      <th>1</th>\n",
       "      <td>1</td>\n",
       "      <td>0.5</td>\n",
       "    </tr>\n",
       "    <tr>\n",
       "      <th>2</th>\n",
       "      <td>2</td>\n",
       "      <td>0.5</td>\n",
       "    </tr>\n",
       "    <tr>\n",
       "      <th>3</th>\n",
       "      <td>3</td>\n",
       "      <td>0.5</td>\n",
       "    </tr>\n",
       "    <tr>\n",
       "      <th>4</th>\n",
       "      <td>4</td>\n",
       "      <td>0.5</td>\n",
       "    </tr>\n",
       "  </tbody>\n",
       "</table>\n",
       "</div>"
      ],
      "text/plain": [
       "   ID  item_cnt_month\n",
       "0   0             0.5\n",
       "1   1             0.5\n",
       "2   2             0.5\n",
       "3   3             0.5\n",
       "4   4             0.5"
      ]
     },
     "execution_count": 7,
     "metadata": {},
     "output_type": "execute_result"
    }
   ],
   "source": [
    "sample_sub.head()"
   ]
  },
  {
   "cell_type": "code",
   "execution_count": 8,
   "metadata": {
    "colab": {
     "base_uri": "https://localhost:8080/",
     "height": 206
    },
    "colab_type": "code",
    "id": "tUCRARZ-m4ks",
    "outputId": "90a6fd12-d4c5-4df0-d062-100ab5538694"
   },
   "outputs": [
    {
     "data": {
      "text/html": [
       "<div>\n",
       "<style scoped>\n",
       "    .dataframe tbody tr th:only-of-type {\n",
       "        vertical-align: middle;\n",
       "    }\n",
       "\n",
       "    .dataframe tbody tr th {\n",
       "        vertical-align: top;\n",
       "    }\n",
       "\n",
       "    .dataframe thead th {\n",
       "        text-align: right;\n",
       "    }\n",
       "</style>\n",
       "<table border=\"1\" class=\"dataframe\">\n",
       "  <thead>\n",
       "    <tr style=\"text-align: right;\">\n",
       "      <th></th>\n",
       "      <th>shop_name</th>\n",
       "      <th>shop_id</th>\n",
       "    </tr>\n",
       "  </thead>\n",
       "  <tbody>\n",
       "    <tr>\n",
       "      <th>0</th>\n",
       "      <td>!Якутск Орджоникидзе, 56 фран</td>\n",
       "      <td>0</td>\n",
       "    </tr>\n",
       "    <tr>\n",
       "      <th>1</th>\n",
       "      <td>!Якутск ТЦ \"Центральный\" фран</td>\n",
       "      <td>1</td>\n",
       "    </tr>\n",
       "    <tr>\n",
       "      <th>2</th>\n",
       "      <td>Адыгея ТЦ \"Мега\"</td>\n",
       "      <td>2</td>\n",
       "    </tr>\n",
       "    <tr>\n",
       "      <th>3</th>\n",
       "      <td>Балашиха ТРК \"Октябрь-Киномир\"</td>\n",
       "      <td>3</td>\n",
       "    </tr>\n",
       "    <tr>\n",
       "      <th>4</th>\n",
       "      <td>Волжский ТЦ \"Волга Молл\"</td>\n",
       "      <td>4</td>\n",
       "    </tr>\n",
       "  </tbody>\n",
       "</table>\n",
       "</div>"
      ],
      "text/plain": [
       "                        shop_name  shop_id\n",
       "0   !Якутск Орджоникидзе, 56 фран        0\n",
       "1   !Якутск ТЦ \"Центральный\" фран        1\n",
       "2                Адыгея ТЦ \"Мега\"        2\n",
       "3  Балашиха ТРК \"Октябрь-Киномир\"        3\n",
       "4        Волжский ТЦ \"Волга Молл\"        4"
      ]
     },
     "execution_count": 8,
     "metadata": {},
     "output_type": "execute_result"
    }
   ],
   "source": [
    "shops.head()"
   ]
  },
  {
   "cell_type": "code",
   "execution_count": 9,
   "metadata": {
    "colab": {
     "base_uri": "https://localhost:8080/",
     "height": 206
    },
    "colab_type": "code",
    "id": "U9bRs_DXm8Yb",
    "outputId": "3b0d2f73-b1fc-4693-ddca-8a37ac33c57f"
   },
   "outputs": [
    {
     "data": {
      "text/html": [
       "<div>\n",
       "<style scoped>\n",
       "    .dataframe tbody tr th:only-of-type {\n",
       "        vertical-align: middle;\n",
       "    }\n",
       "\n",
       "    .dataframe tbody tr th {\n",
       "        vertical-align: top;\n",
       "    }\n",
       "\n",
       "    .dataframe thead th {\n",
       "        text-align: right;\n",
       "    }\n",
       "</style>\n",
       "<table border=\"1\" class=\"dataframe\">\n",
       "  <thead>\n",
       "    <tr style=\"text-align: right;\">\n",
       "      <th></th>\n",
       "      <th>ID</th>\n",
       "      <th>shop_id</th>\n",
       "      <th>item_id</th>\n",
       "    </tr>\n",
       "  </thead>\n",
       "  <tbody>\n",
       "    <tr>\n",
       "      <th>0</th>\n",
       "      <td>0</td>\n",
       "      <td>5</td>\n",
       "      <td>5037</td>\n",
       "    </tr>\n",
       "    <tr>\n",
       "      <th>1</th>\n",
       "      <td>1</td>\n",
       "      <td>5</td>\n",
       "      <td>5320</td>\n",
       "    </tr>\n",
       "    <tr>\n",
       "      <th>2</th>\n",
       "      <td>2</td>\n",
       "      <td>5</td>\n",
       "      <td>5233</td>\n",
       "    </tr>\n",
       "    <tr>\n",
       "      <th>3</th>\n",
       "      <td>3</td>\n",
       "      <td>5</td>\n",
       "      <td>5232</td>\n",
       "    </tr>\n",
       "    <tr>\n",
       "      <th>4</th>\n",
       "      <td>4</td>\n",
       "      <td>5</td>\n",
       "      <td>5268</td>\n",
       "    </tr>\n",
       "  </tbody>\n",
       "</table>\n",
       "</div>"
      ],
      "text/plain": [
       "   ID  shop_id  item_id\n",
       "0   0        5     5037\n",
       "1   1        5     5320\n",
       "2   2        5     5233\n",
       "3   3        5     5232\n",
       "4   4        5     5268"
      ]
     },
     "execution_count": 9,
     "metadata": {},
     "output_type": "execute_result"
    }
   ],
   "source": [
    "test.head()"
   ]
  },
  {
   "cell_type": "code",
   "execution_count": 10,
   "metadata": {
    "colab": {
     "base_uri": "https://localhost:8080/",
     "height": 69
    },
    "colab_type": "code",
    "id": "wh7F8JwJm9AD",
    "outputId": "6868df8e-e846-4064-d1e8-7b9be989355b"
   },
   "outputs": [
    {
     "data": {
      "text/plain": [
       "item_category_name    0\n",
       "item_category_id      0\n",
       "dtype: int64"
      ]
     },
     "execution_count": 10,
     "metadata": {},
     "output_type": "execute_result"
    }
   ],
   "source": [
    "items_cat.isnull().sum()"
   ]
  },
  {
   "cell_type": "code",
   "execution_count": 11,
   "metadata": {
    "colab": {
     "base_uri": "https://localhost:8080/",
     "height": 86
    },
    "colab_type": "code",
    "id": "JZyGPsePoGJC",
    "outputId": "60a6c3cb-0bc1-4311-a1a9-92cb2876c3ab"
   },
   "outputs": [
    {
     "data": {
      "text/plain": [
       "item_name           0\n",
       "item_id             0\n",
       "item_category_id    0\n",
       "dtype: int64"
      ]
     },
     "execution_count": 11,
     "metadata": {},
     "output_type": "execute_result"
    }
   ],
   "source": [
    "items.isnull().sum()"
   ]
  },
  {
   "cell_type": "code",
   "execution_count": 11,
   "metadata": {
    "colab": {
     "base_uri": "https://localhost:8080/",
     "height": 139
    },
    "colab_type": "code",
    "id": "hoKjVpjfoJEL",
    "outputId": "9630b3c4-e521-4a3a-d3a5-c2d90a74e928"
   },
   "outputs": [
    {
     "data": {
      "text/plain": [
       "date              0\n",
       "date_block_num    0\n",
       "shop_id           0\n",
       "item_id           0\n",
       "item_price        0\n",
       "item_cnt_day      0\n",
       "dtype: int64"
      ]
     },
     "execution_count": 11,
     "metadata": {},
     "output_type": "execute_result"
    }
   ],
   "source": [
    "train.isnull().sum()"
   ]
  },
  {
   "cell_type": "code",
   "execution_count": 12,
   "metadata": {
    "colab": {
     "base_uri": "https://localhost:8080/",
     "height": 69
    },
    "colab_type": "code",
    "id": "opgLifBzoLkj",
    "outputId": "6f4815be-1acc-418c-da73-8da6a2b510ad"
   },
   "outputs": [
    {
     "data": {
      "text/plain": [
       "shop_name    0\n",
       "shop_id      0\n",
       "dtype: int64"
      ]
     },
     "execution_count": 12,
     "metadata": {},
     "output_type": "execute_result"
    }
   ],
   "source": [
    "shops.isnull().sum()"
   ]
  },
  {
   "cell_type": "code",
   "execution_count": 4,
   "metadata": {
    "colab": {
     "base_uri": "https://localhost:8080/",
     "height": 86
    },
    "colab_type": "code",
    "id": "JdUPs7i8oRw7",
    "outputId": "26daf1a7-c644-4fdb-8cd7-038df544dfa0"
   },
   "outputs": [
    {
     "data": {
      "text/plain": [
       "ID         0\n",
       "shop_id    0\n",
       "item_id    0\n",
       "dtype: int64"
      ]
     },
     "execution_count": 4,
     "metadata": {},
     "output_type": "execute_result"
    }
   ],
   "source": [
    "test.isnull().sum()"
   ]
  },
  {
   "cell_type": "markdown",
   "metadata": {
    "colab_type": "text",
    "id": "VRye8boargjc"
   },
   "source": [
    "# Преобразование данных"
   ]
  },
  {
   "cell_type": "markdown",
   "metadata": {
    "colab_type": "text",
    "id": "F5C8wBS61BDD"
   },
   "source": [
    "Приведем наши данные к необходимому формату, объединим таблицы. Удалим из train выборки то чего нет в test выборке. Добавим новые признаки. Приведем целевую переменную item_cnt_day к формату 0, 20."
   ]
  },
  {
   "cell_type": "code",
   "execution_count": 31,
   "metadata": {
    "colab": {},
    "colab_type": "code",
    "id": "sPqhKYDMoT76"
   },
   "outputs": [],
   "source": [
    "test_shops = test.shop_id.unique() # в train выборке у нас есть магазины и товары которых нет в test выборке\n",
    "train = train[train.shop_id.isin(test_shops)] # поэтому мы их удалим\n",
    "test_items = test.item_id.unique()\n",
    "train = train[train.item_id.isin(test_items)]"
   ]
  },
  {
   "cell_type": "code",
   "execution_count": 32,
   "metadata": {
    "colab": {},
    "colab_type": "code",
    "id": "YYc1dCU5MNEe"
   },
   "outputs": [],
   "source": [
    "def split_city(str):\n",
    "  return str.split(sep=\" \", maxsplit=1)[0]\n",
    "\n",
    "def split_shop(str):\n",
    "  return str.split(sep=\" \", maxsplit=1)[1]\n",
    "\n",
    "def split_item_cat1(str):\n",
    "  return str.split(sep=\"-\", maxsplit=1)[0]\n",
    "\n",
    "def split_item_cat2(str):\n",
    "  splitted = str.split(sep=\"-\", maxsplit=1)\n",
    "  if len(splitted) == 1:\n",
    "    return \"No info\"\n",
    "  else:\n",
    "    return splitted[1]\n",
    "\n",
    "def prepare_data(data): # функция для объединения таблиц и создания новых признаков из старых\n",
    "  full_items = items.merge(items_cat, left_on=\"item_category_id\", right_on=\"item_category_id\")\n",
    "  full_data = data.merge(shops, left_on=\"shop_id\", right_on=\"shop_id\").merge(full_items, left_on=\"item_id\", right_on=\"item_id\")\n",
    "  del full_items\n",
    "  full_data['city'] = full_data['shop_name'].apply(split_city)\n",
    "  full_data['new_shop_name'] = full_data['shop_name'].apply(split_shop)\n",
    "  full_data['item_cat1'] = full_data['item_category_name'].apply(split_item_cat1)\n",
    "  full_data['item_cat2'] = full_data['item_category_name'].apply(split_item_cat2)\n",
    "  full_data.drop(['shop_id', 'item_id', 'shop_name', 'item_name', 'item_category_id', 'item_category_name'], axis=1, inplace=True)\n",
    "  return full_data"
   ]
  },
  {
   "cell_type": "code",
   "execution_count": 33,
   "metadata": {
    "colab": {
     "base_uri": "https://localhost:8080/",
     "height": 52
    },
    "colab_type": "code",
    "id": "GvEFlWgEQaGX",
    "outputId": "d852be78-6735-4bd9-b3d0-472ff931dda4"
   },
   "outputs": [
    {
     "name": "stdout",
     "output_type": "stream",
     "text": [
      "CPU times: user 4.42 s, sys: 732 ms, total: 5.15 s\n",
      "Wall time: 5.5 s\n"
     ]
    }
   ],
   "source": [
    "%%time\n",
    "new_train = prepare_data(train.copy())\n",
    "new_test = prepare_data(test.copy())"
   ]
  },
  {
   "cell_type": "code",
   "execution_count": 34,
   "metadata": {
    "colab": {},
    "colab_type": "code",
    "id": "kECO20MkdLMK"
   },
   "outputs": [],
   "source": [
    "new_test['date_block_num'] = 34 # добавляем порядковый номер месяца в test\n",
    "new_test.drop(['ID'], axis=1, inplace=True)\n",
    "new_train.drop(['date'], axis=1, inplace=True)\n",
    "new_train['item_cnt_day'] = new_train['item_cnt_day'].clip(0, 20) # преобразуем значения item_cnt_day в необходимый формат > 0\n",
    "new_train['month'] = new_train['date_block_num'] % 12 # добавляем номер месяца в train\n",
    "new_test['month'] = new_test['date_block_num'] % 12 # добавляем номер месяца в test\n",
    "new_train.drop(['item_price'], axis=1, inplace=True)"
   ]
  },
  {
   "cell_type": "code",
   "execution_count": 35,
   "metadata": {
    "colab": {
     "base_uri": "https://localhost:8080/",
     "height": 34
    },
    "colab_type": "code",
    "id": "P4KX34Ad4B1i",
    "outputId": "715bd347-c09c-406e-fa45-df668c162ba8"
   },
   "outputs": [
    {
     "data": {
      "text/plain": [
       "177"
      ]
     },
     "execution_count": 35,
     "metadata": {},
     "output_type": "execute_result"
    }
   ],
   "source": [
    "gc.collect()"
   ]
  },
  {
   "cell_type": "code",
   "execution_count": 36,
   "metadata": {
    "colab": {
     "base_uri": "https://localhost:8080/",
     "height": 424
    },
    "colab_type": "code",
    "id": "f78KO74XQvnj",
    "outputId": "f5810a59-8938-4221-d29a-eeffe53a572d"
   },
   "outputs": [
    {
     "data": {
      "text/html": [
       "<div>\n",
       "<style scoped>\n",
       "    .dataframe tbody tr th:only-of-type {\n",
       "        vertical-align: middle;\n",
       "    }\n",
       "\n",
       "    .dataframe tbody tr th {\n",
       "        vertical-align: top;\n",
       "    }\n",
       "\n",
       "    .dataframe thead th {\n",
       "        text-align: right;\n",
       "    }\n",
       "</style>\n",
       "<table border=\"1\" class=\"dataframe\">\n",
       "  <thead>\n",
       "    <tr style=\"text-align: right;\">\n",
       "      <th></th>\n",
       "      <th>date_block_num</th>\n",
       "      <th>item_cnt_day</th>\n",
       "      <th>city</th>\n",
       "      <th>new_shop_name</th>\n",
       "      <th>item_cat1</th>\n",
       "      <th>item_cat2</th>\n",
       "      <th>month</th>\n",
       "    </tr>\n",
       "  </thead>\n",
       "  <tbody>\n",
       "    <tr>\n",
       "      <th>0</th>\n",
       "      <td>0</td>\n",
       "      <td>1.0</td>\n",
       "      <td>Ярославль</td>\n",
       "      <td>ТЦ \"Альтаир\"</td>\n",
       "      <td>Кино</td>\n",
       "      <td>Blu-Ray</td>\n",
       "      <td>0</td>\n",
       "    </tr>\n",
       "    <tr>\n",
       "      <th>1</th>\n",
       "      <td>0</td>\n",
       "      <td>1.0</td>\n",
       "      <td>Москва</td>\n",
       "      <td>ТРК \"Атриум\"</td>\n",
       "      <td>Кино</td>\n",
       "      <td>Blu-Ray</td>\n",
       "      <td>0</td>\n",
       "    </tr>\n",
       "    <tr>\n",
       "      <th>2</th>\n",
       "      <td>0</td>\n",
       "      <td>1.0</td>\n",
       "      <td>Москва</td>\n",
       "      <td>ТРК \"Атриум\"</td>\n",
       "      <td>Кино</td>\n",
       "      <td>Blu-Ray</td>\n",
       "      <td>0</td>\n",
       "    </tr>\n",
       "    <tr>\n",
       "      <th>3</th>\n",
       "      <td>0</td>\n",
       "      <td>1.0</td>\n",
       "      <td>Москва</td>\n",
       "      <td>ТРК \"Атриум\"</td>\n",
       "      <td>Кино</td>\n",
       "      <td>Blu-Ray</td>\n",
       "      <td>0</td>\n",
       "    </tr>\n",
       "    <tr>\n",
       "      <th>4</th>\n",
       "      <td>0</td>\n",
       "      <td>1.0</td>\n",
       "      <td>Москва</td>\n",
       "      <td>ТРК \"Атриум\"</td>\n",
       "      <td>Кино</td>\n",
       "      <td>Blu-Ray</td>\n",
       "      <td>0</td>\n",
       "    </tr>\n",
       "    <tr>\n",
       "      <th>...</th>\n",
       "      <td>...</td>\n",
       "      <td>...</td>\n",
       "      <td>...</td>\n",
       "      <td>...</td>\n",
       "      <td>...</td>\n",
       "      <td>...</td>\n",
       "      <td>...</td>\n",
       "    </tr>\n",
       "    <tr>\n",
       "      <th>1224434</th>\n",
       "      <td>33</td>\n",
       "      <td>1.0</td>\n",
       "      <td>Цифровой</td>\n",
       "      <td>склад 1С-Онлайн</td>\n",
       "      <td>Программы</td>\n",
       "      <td>Для дома и офиса (Цифра)</td>\n",
       "      <td>9</td>\n",
       "    </tr>\n",
       "    <tr>\n",
       "      <th>1224435</th>\n",
       "      <td>33</td>\n",
       "      <td>1.0</td>\n",
       "      <td>Цифровой</td>\n",
       "      <td>склад 1С-Онлайн</td>\n",
       "      <td>Программы</td>\n",
       "      <td>Для дома и офиса (Цифра)</td>\n",
       "      <td>9</td>\n",
       "    </tr>\n",
       "    <tr>\n",
       "      <th>1224436</th>\n",
       "      <td>33</td>\n",
       "      <td>3.0</td>\n",
       "      <td>Цифровой</td>\n",
       "      <td>склад 1С-Онлайн</td>\n",
       "      <td>Игры PC</td>\n",
       "      <td>Цифра</td>\n",
       "      <td>9</td>\n",
       "    </tr>\n",
       "    <tr>\n",
       "      <th>1224437</th>\n",
       "      <td>33</td>\n",
       "      <td>1.0</td>\n",
       "      <td>Цифровой</td>\n",
       "      <td>склад 1С-Онлайн</td>\n",
       "      <td>Игры PC</td>\n",
       "      <td>Цифра</td>\n",
       "      <td>9</td>\n",
       "    </tr>\n",
       "    <tr>\n",
       "      <th>1224438</th>\n",
       "      <td>33</td>\n",
       "      <td>1.0</td>\n",
       "      <td>Томск</td>\n",
       "      <td>ТРЦ \"Изумрудный Город\"</td>\n",
       "      <td>Подарки</td>\n",
       "      <td>Мягкие игрушки</td>\n",
       "      <td>9</td>\n",
       "    </tr>\n",
       "  </tbody>\n",
       "</table>\n",
       "<p>1224439 rows × 7 columns</p>\n",
       "</div>"
      ],
      "text/plain": [
       "         date_block_num  item_cnt_day       city           new_shop_name  \\\n",
       "0                     0           1.0  Ярославль            ТЦ \"Альтаир\"   \n",
       "1                     0           1.0     Москва            ТРК \"Атриум\"   \n",
       "2                     0           1.0     Москва            ТРК \"Атриум\"   \n",
       "3                     0           1.0     Москва            ТРК \"Атриум\"   \n",
       "4                     0           1.0     Москва            ТРК \"Атриум\"   \n",
       "...                 ...           ...        ...                     ...   \n",
       "1224434              33           1.0   Цифровой         склад 1С-Онлайн   \n",
       "1224435              33           1.0   Цифровой         склад 1С-Онлайн   \n",
       "1224436              33           3.0   Цифровой         склад 1С-Онлайн   \n",
       "1224437              33           1.0   Цифровой         склад 1С-Онлайн   \n",
       "1224438              33           1.0      Томск  ТРЦ \"Изумрудный Город\"   \n",
       "\n",
       "          item_cat1                  item_cat2  month  \n",
       "0             Кино                     Blu-Ray      0  \n",
       "1             Кино                     Blu-Ray      0  \n",
       "2             Кино                     Blu-Ray      0  \n",
       "3             Кино                     Blu-Ray      0  \n",
       "4             Кино                     Blu-Ray      0  \n",
       "...             ...                        ...    ...  \n",
       "1224434  Программы    Для дома и офиса (Цифра)      9  \n",
       "1224435  Программы    Для дома и офиса (Цифра)      9  \n",
       "1224436    Игры PC                       Цифра      9  \n",
       "1224437    Игры PC                       Цифра      9  \n",
       "1224438    Подарки              Мягкие игрушки      9  \n",
       "\n",
       "[1224439 rows x 7 columns]"
      ]
     },
     "execution_count": 36,
     "metadata": {},
     "output_type": "execute_result"
    }
   ],
   "source": [
    "new_train"
   ]
  },
  {
   "cell_type": "code",
   "execution_count": 37,
   "metadata": {
    "colab": {
     "base_uri": "https://localhost:8080/",
     "height": 424
    },
    "colab_type": "code",
    "id": "RbBSSaEnQxc6",
    "outputId": "6a7f35eb-fc91-4e83-d08c-9397ace485cc"
   },
   "outputs": [
    {
     "data": {
      "text/html": [
       "<div>\n",
       "<style scoped>\n",
       "    .dataframe tbody tr th:only-of-type {\n",
       "        vertical-align: middle;\n",
       "    }\n",
       "\n",
       "    .dataframe tbody tr th {\n",
       "        vertical-align: top;\n",
       "    }\n",
       "\n",
       "    .dataframe thead th {\n",
       "        text-align: right;\n",
       "    }\n",
       "</style>\n",
       "<table border=\"1\" class=\"dataframe\">\n",
       "  <thead>\n",
       "    <tr style=\"text-align: right;\">\n",
       "      <th></th>\n",
       "      <th>city</th>\n",
       "      <th>new_shop_name</th>\n",
       "      <th>item_cat1</th>\n",
       "      <th>item_cat2</th>\n",
       "      <th>date_block_num</th>\n",
       "      <th>month</th>\n",
       "    </tr>\n",
       "  </thead>\n",
       "  <tbody>\n",
       "    <tr>\n",
       "      <th>0</th>\n",
       "      <td>Вологда</td>\n",
       "      <td>ТРЦ \"Мармелад\"</td>\n",
       "      <td>Игры</td>\n",
       "      <td>PS3</td>\n",
       "      <td>34</td>\n",
       "      <td>10</td>\n",
       "    </tr>\n",
       "    <tr>\n",
       "      <th>1</th>\n",
       "      <td>Волжский</td>\n",
       "      <td>ТЦ \"Волга Молл\"</td>\n",
       "      <td>Игры</td>\n",
       "      <td>PS3</td>\n",
       "      <td>34</td>\n",
       "      <td>10</td>\n",
       "    </tr>\n",
       "    <tr>\n",
       "      <th>2</th>\n",
       "      <td>Воронеж</td>\n",
       "      <td>(Плехановская, 13)</td>\n",
       "      <td>Игры</td>\n",
       "      <td>PS3</td>\n",
       "      <td>34</td>\n",
       "      <td>10</td>\n",
       "    </tr>\n",
       "    <tr>\n",
       "      <th>3</th>\n",
       "      <td>Балашиха</td>\n",
       "      <td>ТРК \"Октябрь-Киномир\"</td>\n",
       "      <td>Игры</td>\n",
       "      <td>PS3</td>\n",
       "      <td>34</td>\n",
       "      <td>10</td>\n",
       "    </tr>\n",
       "    <tr>\n",
       "      <th>4</th>\n",
       "      <td>Адыгея</td>\n",
       "      <td>ТЦ \"Мега\"</td>\n",
       "      <td>Игры</td>\n",
       "      <td>PS3</td>\n",
       "      <td>34</td>\n",
       "      <td>10</td>\n",
       "    </tr>\n",
       "    <tr>\n",
       "      <th>...</th>\n",
       "      <td>...</td>\n",
       "      <td>...</td>\n",
       "      <td>...</td>\n",
       "      <td>...</td>\n",
       "      <td>...</td>\n",
       "      <td>...</td>\n",
       "    </tr>\n",
       "    <tr>\n",
       "      <th>214195</th>\n",
       "      <td>Сергиев</td>\n",
       "      <td>Посад ТЦ \"7Я\"</td>\n",
       "      <td>Кино</td>\n",
       "      <td>Blu-Ray</td>\n",
       "      <td>34</td>\n",
       "      <td>10</td>\n",
       "    </tr>\n",
       "    <tr>\n",
       "      <th>214196</th>\n",
       "      <td>РостовНаДону</td>\n",
       "      <td>ТЦ \"Мега\"</td>\n",
       "      <td>Кино</td>\n",
       "      <td>Blu-Ray</td>\n",
       "      <td>34</td>\n",
       "      <td>10</td>\n",
       "    </tr>\n",
       "    <tr>\n",
       "      <th>214197</th>\n",
       "      <td>Самара</td>\n",
       "      <td>ТЦ \"Мелодия\"</td>\n",
       "      <td>Кино</td>\n",
       "      <td>Blu-Ray</td>\n",
       "      <td>34</td>\n",
       "      <td>10</td>\n",
       "    </tr>\n",
       "    <tr>\n",
       "      <th>214198</th>\n",
       "      <td>РостовНаДону</td>\n",
       "      <td>ТРК \"Мегацентр Горизонт\"</td>\n",
       "      <td>Кино</td>\n",
       "      <td>Blu-Ray</td>\n",
       "      <td>34</td>\n",
       "      <td>10</td>\n",
       "    </tr>\n",
       "    <tr>\n",
       "      <th>214199</th>\n",
       "      <td>Самара</td>\n",
       "      <td>ТЦ \"ПаркХаус\"</td>\n",
       "      <td>Кино</td>\n",
       "      <td>Blu-Ray</td>\n",
       "      <td>34</td>\n",
       "      <td>10</td>\n",
       "    </tr>\n",
       "  </tbody>\n",
       "</table>\n",
       "<p>214200 rows × 6 columns</p>\n",
       "</div>"
      ],
      "text/plain": [
       "                city             new_shop_name item_cat1 item_cat2  \\\n",
       "0            Вологда            ТРЦ \"Мармелад\"     Игры        PS3   \n",
       "1           Волжский           ТЦ \"Волга Молл\"     Игры        PS3   \n",
       "2            Воронеж        (Плехановская, 13)     Игры        PS3   \n",
       "3           Балашиха     ТРК \"Октябрь-Киномир\"     Игры        PS3   \n",
       "4             Адыгея                 ТЦ \"Мега\"     Игры        PS3   \n",
       "...              ...                       ...       ...       ...   \n",
       "214195       Сергиев             Посад ТЦ \"7Я\"     Кино    Blu-Ray   \n",
       "214196  РостовНаДону                 ТЦ \"Мега\"     Кино    Blu-Ray   \n",
       "214197        Самара              ТЦ \"Мелодия\"     Кино    Blu-Ray   \n",
       "214198  РостовНаДону  ТРК \"Мегацентр Горизонт\"     Кино    Blu-Ray   \n",
       "214199        Самара             ТЦ \"ПаркХаус\"     Кино    Blu-Ray   \n",
       "\n",
       "        date_block_num  month  \n",
       "0                   34     10  \n",
       "1                   34     10  \n",
       "2                   34     10  \n",
       "3                   34     10  \n",
       "4                   34     10  \n",
       "...                ...    ...  \n",
       "214195              34     10  \n",
       "214196              34     10  \n",
       "214197              34     10  \n",
       "214198              34     10  \n",
       "214199              34     10  \n",
       "\n",
       "[214200 rows x 6 columns]"
      ]
     },
     "execution_count": 37,
     "metadata": {},
     "output_type": "execute_result"
    }
   ],
   "source": [
    "new_test"
   ]
  },
  {
   "cell_type": "markdown",
   "metadata": {
    "colab_type": "text",
    "id": "FwMm-d7l5sKQ"
   },
   "source": [
    "# Получение информации о данных"
   ]
  },
  {
   "cell_type": "code",
   "execution_count": 21,
   "metadata": {
    "colab": {
     "base_uri": "https://localhost:8080/",
     "height": 260
    },
    "colab_type": "code",
    "id": "jCd3rf5zn-Qa",
    "outputId": "ceeca1bb-3115-4c66-faac-54669fc9675b"
   },
   "outputs": [
    {
     "name": "stdout",
     "output_type": "stream",
     "text": [
      "<class 'pandas.core.frame.DataFrame'>\n",
      "Int64Index: 1224439 entries, 0 to 1224438\n",
      "Data columns (total 7 columns):\n",
      " #   Column          Non-Null Count    Dtype  \n",
      "---  ------          --------------    -----  \n",
      " 0   date_block_num  1224439 non-null  int64  \n",
      " 1   item_cnt_day    1224439 non-null  float64\n",
      " 2   city            1224439 non-null  object \n",
      " 3   new_shop_name   1224439 non-null  object \n",
      " 4   item_cat1       1224439 non-null  object \n",
      " 5   item_cat2       1224439 non-null  object \n",
      " 6   month           1224439 non-null  int64  \n",
      "dtypes: float64(1), int64(2), object(4)\n",
      "memory usage: 74.7+ MB\n"
     ]
    }
   ],
   "source": [
    "new_train.info()"
   ]
  },
  {
   "cell_type": "code",
   "execution_count": 22,
   "metadata": {
    "colab": {
     "base_uri": "https://localhost:8080/",
     "height": 243
    },
    "colab_type": "code",
    "id": "4RpCP63hoC2Z",
    "outputId": "c2406573-fd72-4e8b-e2e5-28cb6794c6c9"
   },
   "outputs": [
    {
     "name": "stdout",
     "output_type": "stream",
     "text": [
      "<class 'pandas.core.frame.DataFrame'>\n",
      "Int64Index: 214200 entries, 0 to 214199\n",
      "Data columns (total 6 columns):\n",
      " #   Column          Non-Null Count   Dtype \n",
      "---  ------          --------------   ----- \n",
      " 0   city            214200 non-null  object\n",
      " 1   new_shop_name   214200 non-null  object\n",
      " 2   item_cat1       214200 non-null  object\n",
      " 3   item_cat2       214200 non-null  object\n",
      " 4   date_block_num  214200 non-null  int64 \n",
      " 5   month           214200 non-null  int64 \n",
      "dtypes: int64(2), object(4)\n",
      "memory usage: 11.4+ MB\n"
     ]
    }
   ],
   "source": [
    "new_test.info()"
   ]
  },
  {
   "cell_type": "code",
   "execution_count": 23,
   "metadata": {
    "colab": {
     "base_uri": "https://localhost:8080/",
     "height": 301
    },
    "colab_type": "code",
    "id": "6xNokMz04Ztp",
    "outputId": "f5d49047-f527-467b-b8e8-6a2bd546eee6"
   },
   "outputs": [
    {
     "data": {
      "text/html": [
       "<div>\n",
       "<style scoped>\n",
       "    .dataframe tbody tr th:only-of-type {\n",
       "        vertical-align: middle;\n",
       "    }\n",
       "\n",
       "    .dataframe tbody tr th {\n",
       "        vertical-align: top;\n",
       "    }\n",
       "\n",
       "    .dataframe thead th {\n",
       "        text-align: right;\n",
       "    }\n",
       "</style>\n",
       "<table border=\"1\" class=\"dataframe\">\n",
       "  <thead>\n",
       "    <tr style=\"text-align: right;\">\n",
       "      <th></th>\n",
       "      <th>date_block_num</th>\n",
       "      <th>item_cnt_day</th>\n",
       "      <th>month</th>\n",
       "    </tr>\n",
       "  </thead>\n",
       "  <tbody>\n",
       "    <tr>\n",
       "      <th>count</th>\n",
       "      <td>1.224439e+06</td>\n",
       "      <td>1.224439e+06</td>\n",
       "      <td>1.224439e+06</td>\n",
       "    </tr>\n",
       "    <tr>\n",
       "      <th>mean</th>\n",
       "      <td>1.935472e+01</td>\n",
       "      <td>1.287587e+00</td>\n",
       "      <td>5.628645e+00</td>\n",
       "    </tr>\n",
       "    <tr>\n",
       "      <th>std</th>\n",
       "      <td>9.110722e+00</td>\n",
       "      <td>1.360836e+00</td>\n",
       "      <td>3.470049e+00</td>\n",
       "    </tr>\n",
       "    <tr>\n",
       "      <th>min</th>\n",
       "      <td>0.000000e+00</td>\n",
       "      <td>0.000000e+00</td>\n",
       "      <td>0.000000e+00</td>\n",
       "    </tr>\n",
       "    <tr>\n",
       "      <th>25%</th>\n",
       "      <td>1.200000e+01</td>\n",
       "      <td>1.000000e+00</td>\n",
       "      <td>3.000000e+00</td>\n",
       "    </tr>\n",
       "    <tr>\n",
       "      <th>50%</th>\n",
       "      <td>2.100000e+01</td>\n",
       "      <td>1.000000e+00</td>\n",
       "      <td>6.000000e+00</td>\n",
       "    </tr>\n",
       "    <tr>\n",
       "      <th>75%</th>\n",
       "      <td>2.700000e+01</td>\n",
       "      <td>1.000000e+00</td>\n",
       "      <td>9.000000e+00</td>\n",
       "    </tr>\n",
       "    <tr>\n",
       "      <th>max</th>\n",
       "      <td>3.300000e+01</td>\n",
       "      <td>2.000000e+01</td>\n",
       "      <td>1.100000e+01</td>\n",
       "    </tr>\n",
       "  </tbody>\n",
       "</table>\n",
       "</div>"
      ],
      "text/plain": [
       "       date_block_num  item_cnt_day         month\n",
       "count    1.224439e+06  1.224439e+06  1.224439e+06\n",
       "mean     1.935472e+01  1.287587e+00  5.628645e+00\n",
       "std      9.110722e+00  1.360836e+00  3.470049e+00\n",
       "min      0.000000e+00  0.000000e+00  0.000000e+00\n",
       "25%      1.200000e+01  1.000000e+00  3.000000e+00\n",
       "50%      2.100000e+01  1.000000e+00  6.000000e+00\n",
       "75%      2.700000e+01  1.000000e+00  9.000000e+00\n",
       "max      3.300000e+01  2.000000e+01  1.100000e+01"
      ]
     },
     "execution_count": 23,
     "metadata": {},
     "output_type": "execute_result"
    }
   ],
   "source": [
    "new_train.describe()"
   ]
  },
  {
   "cell_type": "markdown",
   "metadata": {
    "colab_type": "text",
    "id": "o8nPeB-vRtNq"
   },
   "source": [
    "# Визуализация"
   ]
  },
  {
   "cell_type": "markdown",
   "metadata": {
    "colab_type": "text",
    "id": "A5Ea_IOcohK0"
   },
   "source": [
    "Посмотрим количество заказов по городам."
   ]
  },
  {
   "cell_type": "code",
   "execution_count": 24,
   "metadata": {
    "colab": {
     "base_uri": "https://localhost:8080/",
     "height": 400
    },
    "colab_type": "code",
    "id": "CuwrlAIiR4cT",
    "outputId": "66c12694-9209-430f-c0ad-4a3d77ade43d"
   },
   "outputs": [
    {
     "data": {
      "image/png": "[encoded data removed]",
      "text/plain": [
       "<Figure size 1440x360 with 1 Axes>"
      ]
     },
     "metadata": {
      "needs_background": "light"
     },
     "output_type": "display_data"
    }
   ],
   "source": [
    "plt.figure(figsize=(20, 5))\n",
    "city = sns.countplot(x='city', data=new_train)\n",
    "city.set_xticklabels(city.get_xticklabels(), rotation=45);"
   ]
  },
  {
   "cell_type": "markdown",
   "metadata": {
    "colab_type": "text",
    "id": "S6DGfjGOopBb"
   },
   "source": [
    "Распределение покупок по магазинам."
   ]
  },
  {
   "cell_type": "code",
   "execution_count": 38,
   "metadata": {
    "colab": {
     "base_uri": "https://localhost:8080/",
     "height": 435
    },
    "colab_type": "code",
    "id": "SNOl7HaIUuHb",
    "outputId": "89053441-9385-4f3d-9b0c-f86617e85297"
   },
   "outputs": [
    {
     "data": {
      "image/png": "[encoded data removed]",
      "text/plain": [
       "<Figure size 2160x360 with 1 Axes>"
      ]
     },
     "metadata": {
      "needs_background": "light"
     },
     "output_type": "display_data"
    }
   ],
   "source": [
    "plt.figure(figsize=(30, 5))\n",
    "shop_viz = sns.countplot(x='new_shop_name', data=new_train)\n",
    "shop_viz.set_xticklabels(shop_viz.get_xticklabels(), rotation=45);"
   ]
  },
  {
   "cell_type": "code",
   "execution_count": 41,
   "metadata": {},
   "outputs": [
    {
     "data": {
      "image/png": "[encoded data removed]",
      "text/plain": [
       "<Figure size 3600x720 with 1 Axes>"
      ]
     },
     "metadata": {
      "needs_background": "light"
     },
     "output_type": "display_data"
    }
   ],
   "source": [
    "plt.figure(figsize=(50, 10))\n",
    "shop_viz = sns.countplot(x='new_shop_name', data=new_train)\n",
    "shop_viz.set_xticklabels(shop_viz.get_xticklabels(), rotation=45);"
   ]
  },
  {
   "cell_type": "markdown",
   "metadata": {
    "colab_type": "text",
    "id": "g02JHVChozMg"
   },
   "source": [
    "Распределение покупок по глобальным категориям."
   ]
  },
  {
   "cell_type": "code",
   "execution_count": 26,
   "metadata": {
    "colab": {
     "base_uri": "https://localhost:8080/",
     "height": 403
    },
    "colab_type": "code",
    "id": "-13D_BxuVDMw",
    "outputId": "43f0ee5e-0e0c-40ca-940c-c8781d1189dd"
   },
   "outputs": [
    {
     "data": {
      "image/png": "[encoded data removed]",
      "text/plain": [
       "<Figure size 1440x360 with 1 Axes>"
      ]
     },
     "metadata": {
      "needs_background": "light"
     },
     "output_type": "display_data"
    }
   ],
   "source": [
    "plt.figure(figsize=(20, 5))\n",
    "item_name = sns.countplot(x='item_cat1', data=new_train)\n",
    "item_name.set_xticklabels(item_name.get_xticklabels(), rotation=45);"
   ]
  },
  {
   "cell_type": "markdown",
   "metadata": {
    "colab_type": "text",
    "id": "aKtX3NT2o6rY"
   },
   "source": [
    "Распределение покупок по локальным категориям.\n"
   ]
  },
  {
   "cell_type": "code",
   "execution_count": 43,
   "metadata": {
    "colab": {
     "base_uri": "https://localhost:8080/",
     "height": 462
    },
    "colab_type": "code",
    "id": "Xt_V96tAVg5b",
    "outputId": "3ad77999-fd4d-4746-a43a-ea4abd437ce8"
   },
   "outputs": [
    {
     "data": {
      "image/png": "[encoded data removed]",
      "text/plain": [
       "<Figure size 3960x360 with 1 Axes>"
      ]
     },
     "metadata": {
      "needs_background": "light"
     },
     "output_type": "display_data"
    }
   ],
   "source": [
    "plt.figure(figsize=(55, 5))\n",
    "item_label = sns.countplot(x='item_cat2', data=new_train)\n",
    "item_label.set_xticklabels(item_label.get_xticklabels(), rotation=45);"
   ]
  },
  {
   "cell_type": "markdown",
   "metadata": {
    "colab_type": "text",
    "id": "ih_3J-H6pAtD"
   },
   "source": [
    "Распределение покупок по месяцам."
   ]
  },
  {
   "cell_type": "code",
   "execution_count": 28,
   "metadata": {
    "colab": {
     "base_uri": "https://localhost:8080/",
     "height": 334
    },
    "colab_type": "code",
    "id": "N15Yy2gRV6K9",
    "outputId": "767ddf06-43d2-44b1-c8e1-5adeed3a023e"
   },
   "outputs": [
    {
     "data": {
      "image/png": "[encoded data removed]",
      "text/plain": [
       "<Figure size 1440x360 with 1 Axes>"
      ]
     },
     "metadata": {
      "needs_background": "light"
     },
     "output_type": "display_data"
    }
   ],
   "source": [
    "plt.figure(figsize=(20, 5))\n",
    "sns.countplot(x='month', data=new_train);"
   ]
  },
  {
   "cell_type": "markdown",
   "metadata": {
    "colab_type": "text",
    "id": "r-EumxXk47Oo"
   },
   "source": [
    "# Подготавливаем данные для обучения моделей"
   ]
  },
  {
   "cell_type": "code",
   "execution_count": 8,
   "metadata": {
    "colab": {},
    "colab_type": "code",
    "id": "T8o5MUT6IrQP"
   },
   "outputs": [],
   "source": [
    "X_train = new_train.drop(['item_cnt_day'], axis=1) # разделение на X и Y\n",
    "Y_train = new_train['item_cnt_day']\n",
    "X_test = new_test"
   ]
  },
  {
   "cell_type": "code",
   "execution_count": 9,
   "metadata": {
    "colab": {},
    "colab_type": "code",
    "id": "h9h48uSlUQDY"
   },
   "outputs": [],
   "source": [
    "cat_features = ['city', 'new_shop_name', 'item_cat1', 'item_cat2']\n",
    "\n",
    "def into_numbers(data): # приводим к необходимому формату категориальные признаки\n",
    "  num_data = pd.concat([data, pd.get_dummies(data['city'])], axis=1)\n",
    "  num_data = pd.concat([num_data, pd.get_dummies(data['item_cat1'])], axis=1)\n",
    "  num_data = pd.concat([num_data, pd.get_dummies(data['item_cat2'])], axis=1)\n",
    "  num_data = pd.concat([num_data, pd.get_dummies(data['new_shop_name'])], axis=1)\n",
    "  num_data.drop(cat_features, axis=1, inplace=True)\n",
    "  return num_data"
   ]
  },
  {
   "cell_type": "code",
   "execution_count": 10,
   "metadata": {
    "colab": {
     "base_uri": "https://localhost:8080/",
     "height": 52
    },
    "colab_type": "code",
    "id": "DALUXM_XV7F0",
    "outputId": "f229c20d-a998-4c04-ae95-a8902a67e516"
   },
   "outputs": [
    {
     "name": "stdout",
     "output_type": "stream",
     "text": [
      "CPU times: user 3.02 s, sys: 1.14 s, total: 4.16 s\n",
      "Wall time: 5.42 s\n"
     ]
    }
   ],
   "source": [
    "%%time\n",
    "X_train_num = into_numbers(X_train.copy())\n",
    "X_test_num = into_numbers(X_test.copy())"
   ]
  },
  {
   "cell_type": "markdown",
   "metadata": {
    "colab_type": "text",
    "id": "FWeWH3JmqXTw"
   },
   "source": [
    "В train выборке отсутствуют 3 категории товаров, которые есть в test выборке, поэтому мы добавим их вручную в train выборке."
   ]
  },
  {
   "cell_type": "code",
   "execution_count": 11,
   "metadata": {
    "colab": {},
    "colab_type": "code",
    "id": "g_Nro53UVOO1"
   },
   "outputs": [],
   "source": [
    "X_train_num[' Гарнитуры/Наушники'] = 0\n",
    "X_train_num['PC ' ] = 0\n",
    "X_train_num['Игры MAC '] = 0"
   ]
  },
  {
   "cell_type": "markdown",
   "metadata": {
    "colab_type": "text",
    "id": "xA8rF6Udp9hy"
   },
   "source": [
    "Для XGBoost столбцы признаков должны быть в одном порядке и у train, и test выборок, поэтому мы отсортируем столбцы, чтобы получить одинаковый порядок столбцов."
   ]
  },
  {
   "cell_type": "code",
   "execution_count": 12,
   "metadata": {
    "colab": {},
    "colab_type": "code",
    "id": "jQ8gFnk0XkS9"
   },
   "outputs": [],
   "source": [
    "X_train_num = X_train_num.reindex(sorted(X_train_num.columns), axis=1)\n",
    "X_test_num = X_test_num.reindex(sorted(X_test_num.columns), axis=1)"
   ]
  },
  {
   "cell_type": "markdown",
   "metadata": {},
   "source": [
    "Из-за того, что LightGBM не принимает не ascii-символы придется делать транслитерацию названий колонок."
   ]
  },
  {
   "cell_type": "code",
   "execution_count": 13,
   "metadata": {},
   "outputs": [],
   "source": [
    "def transliterate(name):\n",
    "   # Словарь с заменами\n",
    "   dictionary = {'а':'a','б':'b','в':'v','г':'g','д':'d','е':'e','ё':'e',\n",
    "      'ж':'zh','з':'z','и':'i','й':'i','к':'k','л':'l','м':'m','н':'n',\n",
    "      'о':'o','п':'p','р':'r','с':'s','т':'t','у':'u','ф':'f','х':'h',\n",
    "      'ц':'c','ч':'cz','ш':'sh','щ':'scz','ъ':'','ы':'y','ь':'','э':'e',\n",
    "      'ю':'u','я':'ja', 'А':'A','Б':'B','В':'V','Г':'G','Д':'D','Е':'E','Ё':'E',\n",
    "      'Ж':'ZH','З':'Z','И':'I','Й':'I','К':'K','Л':'L','М':'M','Н':'N',\n",
    "      'О':'O','П':'P','Р':'R','С':'S','Т':'T','У':'U','Ф':'F','Х':'H',\n",
    "      'Ц':'C','Ч':'CZ','Ш':'SH','Щ':'SCH','Ъ':'','Ы':'y','Ь':'','Э':'E',\n",
    "      'Ю':'U','Я':'YA',',':'','?':'',' ':'_','~':'','!':'','@':'','#':'',\n",
    "      '$':'','%':'','^':'','&':'','*':'','(':'',')':'','-':'','=':'','+':'',\n",
    "      ':':'',';':'','<':'','>':'','\\'':'','\"':'','\\\\':'','/':'','№':'',\n",
    "      '[':'',']':'','{':'','}':'','ґ':'','ї':'', 'є':'','Ґ':'g','Ї':'i',\n",
    "      'Є':'e', '—':''}\n",
    "        \n",
    "   # Циклически заменяем все буквы в строке\n",
    "   for key in dictionary:\n",
    "      name = name.replace(key, dictionary[key])\n",
    "   return name"
   ]
  },
  {
   "cell_type": "code",
   "execution_count": 14,
   "metadata": {},
   "outputs": [],
   "source": [
    "eng_cols = {}\n",
    "for i in X_train_num.columns:\n",
    "    eng_cols[str(i)] = transliterate(i)"
   ]
  },
  {
   "cell_type": "code",
   "execution_count": 15,
   "metadata": {},
   "outputs": [],
   "source": [
    "X_train_num.rename(columns=eng_cols, inplace=True)\n",
    "X_test_num.rename(columns=eng_cols, inplace=True)"
   ]
  },
  {
   "cell_type": "code",
   "execution_count": 16,
   "metadata": {
    "colab": {
     "base_uri": "https://localhost:8080/",
     "height": 34
    },
    "colab_type": "code",
    "id": "NAdzQ-S06E4Y",
    "outputId": "4b781b99-f631-44bc-f808-1aeb13c42d31"
   },
   "outputs": [
    {
     "data": {
      "text/plain": [
       "60"
      ]
     },
     "execution_count": 16,
     "metadata": {},
     "output_type": "execute_result"
    }
   ],
   "source": [
    "gc.collect()"
   ]
  },
  {
   "cell_type": "markdown",
   "metadata": {
    "colab_type": "text",
    "id": "T6rFWIf0rW0f"
   },
   "source": [
    "# Создание моделей"
   ]
  },
  {
   "cell_type": "code",
   "execution_count": 17,
   "metadata": {
    "colab": {},
    "colab_type": "code",
    "id": "qoBxCr3wqPsc"
   },
   "outputs": [],
   "source": [
    "import xgboost\n",
    "from sklearn.ensemble import RandomForestRegressor\n",
    "from lightgbm import LGBMRegressor\n",
    "from sklearn.linear_model import LinearRegression\n",
    "from sklearn.linear_model import SGDRegressor\n",
    "from sklearn.linear_model import Ridge\n",
    "from sklearn.linear_model import Lasso\n",
    "from sklearn.metrics import mean_squared_error\n",
    "from sklearn.model_selection import train_test_split"
   ]
  },
  {
   "cell_type": "markdown",
   "metadata": {
    "colab_type": "text",
    "id": "B9A3w6kc6qA7"
   },
   "source": [
    "Разбиваем данные train выборки на выборку для обучения и отложенную выборку для проверки качества моделей."
   ]
  },
  {
   "cell_type": "code",
   "execution_count": 18,
   "metadata": {
    "colab": {},
    "colab_type": "code",
    "id": "gpAq49_EsJbP"
   },
   "outputs": [],
   "source": [
    "X_train_check, X_test_check, y_train_check, y_test_check = train_test_split(X_train_num, Y_train, test_size=0.33, random_state=42) # нормализованные данные с использованием метода обработки категориальных признаков - get_dummies"
   ]
  },
  {
   "cell_type": "markdown",
   "metadata": {},
   "source": [
    "Удалим старые данные, чтобы освободить ОЗУ."
   ]
  },
  {
   "cell_type": "code",
   "execution_count": 19,
   "metadata": {},
   "outputs": [
    {
     "data": {
      "text/plain": [
       "40"
      ]
     },
     "execution_count": 19,
     "metadata": {},
     "output_type": "execute_result"
    }
   ],
   "source": [
    "del X_train_num\n",
    "del Y_train\n",
    "del X_train\n",
    "del X_test\n",
    "del items_cat\n",
    "del items\n",
    "del train\n",
    "del sample_sub\n",
    "del shops\n",
    "del test\n",
    "del new_train\n",
    "del new_test\n",
    "gc.collect()"
   ]
  },
  {
   "cell_type": "code",
   "execution_count": 45,
   "metadata": {
    "colab": {},
    "colab_type": "code",
    "id": "9yuV924N7jW5"
   },
   "outputs": [],
   "source": [
    "model_error = {}"
   ]
  },
  {
   "cell_type": "markdown",
   "metadata": {},
   "source": [
    "<a href=\"https://habr.com/ru/company/ods/blog/322076/\">Классное объяснение методов</a>"
   ]
  },
  {
   "cell_type": "markdown",
   "metadata": {
    "colab_type": "text",
    "id": "_fY2ISyELgt8"
   },
   "source": [
    "# LinearRegression"
   ]
  },
  {
   "cell_type": "markdown",
   "metadata": {},
   "source": [
    "Линейная регрессия, вероятно, является одним из наиболее важных и широко используемых методов регрессии. Это один из самых простых методов регрессии. Одним из его основных преимуществ является простота интерпретации результатов.\n",
    "\n",
    "**Постановка проблемы**\n",
    "\n",
    "При реализации линейной регрессии некоторой зависимой переменной 𝑦 на множестве независимых переменных 𝐱 = (𝑥₁,…, 𝑥ᵣ), где 𝑟 - число предикторов, вы предполагаете линейную зависимость между 𝑦 и 𝐱: 𝑦 = 𝛽₀ + 𝛽₁𝑥₁ + ⋯ + 𝛽ᵣ𝑥ᵣ + 𝜀. Это уравнение является уравнением регрессии. 𝛽₀, 𝛽₁,…, 𝛽ᵣ - коэффициенты регрессии, а 𝜀 - случайная ошибка.\n",
    "\n",
    "Линейная регрессия вычисляет оценки коэффициентов регрессии или просто предсказанных весов, обозначенных как 𝑏₀, 𝑏₁,…, 𝑏ᵣ. Они определяют оценочную функцию регрессии 𝑓 (𝐱) = 𝑏₀ + 𝑏₁𝑥₁ + ⋯ + 𝑏ᵣ𝑥ᵣ. Эта функция должна достаточно хорошо фиксировать зависимости между входами и выходами.\n",
    "\n",
    "Расчетный или прогнозируемый отклик 𝑓 (𝐱ᵢ) для каждого наблюдения 𝑖 = 1,…, 𝑛 должен быть как можно ближе к соответствующему фактическому отклику 𝑦ᵢ. Различия 𝑦ᵢ - 𝑓 (𝐱ᵢ) для всех наблюдений 𝑖 = 1,…, 𝑛 называются невязками. Регрессия заключается в определении наилучших прогнозируемых весов, то есть весов, соответствующих наименьшим остаткам.\n",
    "\n",
    "Чтобы получить наилучшие веса, вы обычно минимизируете сумму квадратов невязок (SSR) для всех наблюдений 𝑖 = 1,…, 𝑛: SSR = Σᵢ (𝑦ᵢ - 𝑓 (𝐱ᵢ)) ². Этот подход называется методом наименьших квадратов."
   ]
  },
  {
   "cell_type": "markdown",
   "metadata": {},
   "source": [
    "**Производительность регрессии**\n",
    "\n",
    "Изменение фактических ответов 𝑦ᵢ, 𝑖 = 1,…, 𝑛 происходит частично из-за зависимости от предикторов 𝐱ᵢ. Тем не менее, есть также дополнительная внутренняя дисперсия на выходе.\n",
    "\n",
    "Коэффициент детерминации, обозначенный как 𝑅², говорит о том, какое количество изменений в 𝑦 можно объяснить зависимостью от 𝐱 с использованием конкретной регрессионной модели. Больший indicates² указывает на лучшее соответствие и означает, что модель может лучше объяснить изменение выходных данных с различными входными данными.\n",
    "\n",
    "Значение 𝑅² = 1 соответствует SSR = 0, то есть идеально подходит, поскольку значения прогнозируемых и фактических ответов полностью соответствуют друг другу."
   ]
  },
  {
   "cell_type": "code",
   "execution_count": 34,
   "metadata": {
    "colab": {
     "base_uri": "https://localhost:8080/",
     "height": 52
    },
    "colab_type": "code",
    "id": "SD0VrFb1LkMH",
    "outputId": "27c0733a-d9f9-4756-8f61-b1c21b91b013"
   },
   "outputs": [
    {
     "name": "stdout",
     "output_type": "stream",
     "text": [
      "CPU times: user 10.6 s, sys: 1.15 s, total: 11.8 s\n",
      "Wall time: 7.63 s\n"
     ]
    },
    {
     "data": {
      "text/plain": [
       "LinearRegression(copy_X=True, fit_intercept=True, n_jobs=None, normalize=False)"
      ]
     },
     "execution_count": 34,
     "metadata": {},
     "output_type": "execute_result"
    }
   ],
   "source": [
    "%%time\n",
    "model_lr = LinearRegression()\n",
    "model_lr.fit(X_train_check, y_train_check)"
   ]
  },
  {
   "cell_type": "code",
   "execution_count": 35,
   "metadata": {
    "colab": {
     "base_uri": "https://localhost:8080/",
     "height": 34
    },
    "colab_type": "code",
    "id": "ecU_RUnzL9lt",
    "outputId": "76cd1f2d-33bc-481d-b5b1-25eb45f0632e"
   },
   "outputs": [
    {
     "name": "stdout",
     "output_type": "stream",
     "text": [
      "1.2009961798582207\n"
     ]
    }
   ],
   "source": [
    "pred_lr = model_lr.predict(X_test_check)\n",
    "lr_rmse = np.sqrt(mean_squared_error(y_test_check, pred_lr))\n",
    "model_error['LinearRegression'] = lr_rmse\n",
    "print(lr_rmse)"
   ]
  },
  {
   "cell_type": "markdown",
   "metadata": {
    "colab_type": "text",
    "id": "M1DmtXJ7OiZ3"
   },
   "source": [
    "# SGDRegressor"
   ]
  },
  {
   "cell_type": "markdown",
   "metadata": {},
   "source": [
    "Линейная модель подбирается путем минимизации регуляризованных эмпирических потерь с SGD\n",
    "\n",
    "Stochastic Gradient Descent (SGD) - это простой, но очень эффективный подход к дискриминационному обучению линейных классификаторов при использовании функций выпуклых потерь, таких как (линейные) машины опорных векторов и логистическая регрессия. Несмотря на то, что SGD существует в сообществе машинного обучения в течение длительного времени, совсем недавно ему уделялось значительное внимание в контексте широкомасштабного обучения.\n",
    "SGD был успешно применен к крупномасштабным и редким проблемам машинного обучения, часто встречающимся в классификации текста и обработке естественного языка. Учитывая, что данных мало, классификаторы в этом модуле легко масштабируются до проблем с более чем 10 ^ 5 примерами обучения и более чем 10 ^ 5 функциями.\n",
    "\n",
    "Преимущества стохастического градиентного спуска:\n",
    "- Эффективность.\n",
    "- Простота реализации (множество возможностей для настройки кода).\n",
    "\n",
    "К недостаткам стохастического градиентного спуска относятся:\n",
    "- SGD требует наличия ряда гиперпараметров, таких как параметр регуляризации и количество итераций.\n",
    "- SGD чувствителен к масштабированию объектов."
   ]
  },
  {
   "cell_type": "markdown",
   "metadata": {},
   "source": [
    "**Regressor**\n",
    "\n",
    "Класс SGDRegressor реализует простую процедуру обучения стохастического градиентного спуска, которая поддерживает различные функции потерь и штрафы для соответствия моделям линейной регрессии. SGDRegressor хорошо подходит для задач регрессии с большим количеством обучающих выборок (> 10.000), для других задач мы рекомендуем Ridge, Lasso или ElasticNet.\n",
    "\n",
    "Конкретная функция потерь может быть установлена с помощью параметра `loss`. SGDRegressor поддерживает следующие функции потерь:\n",
    "- loss = \"squared_loss\": обычные наименьшие квадраты,\n",
    "- loss = \"huber\": потеря Хубера для устойчивой регрессии,\n",
    "- loss = \"epsilon_insensitive\": линейная регрессия опорных векторов.\n",
    "\n",
    "Функции гибкой и нечувствительной к эпсилону потери могут использоваться для надежной регрессии. Ширина нечувствительной области должна быть указана с помощью параметра `epsilon`. Этот параметр зависит от масштаба целевых переменных.\n",
    "\n",
    "SGDRegressor поддерживает усредненный SGD в качестве SGDClassifier. Усреднение можно включить, установив значение `Average = True`.\n",
    "\n",
    "Для регрессии с квадратом потерь и штрафом l2, другой вариант SGD со стратегией усреднения доступен с алгоритмом Stochastic Average Gradient (SAG), доступным в качестве решателя в Ridge."
   ]
  },
  {
   "cell_type": "code",
   "execution_count": 32,
   "metadata": {
    "colab": {
     "base_uri": "https://localhost:8080/",
     "height": 52
    },
    "colab_type": "code",
    "id": "x0JViUKZOmvo",
    "outputId": "1adf8e3e-e72c-47f6-f8bf-dba1c38c124d"
   },
   "outputs": [
    {
     "name": "stdout",
     "output_type": "stream",
     "text": [
      "CPU times: user 15.6 s, sys: 679 ms, total: 16.3 s\n",
      "Wall time: 16.5 s\n"
     ]
    },
    {
     "data": {
      "text/plain": [
       "SGDRegressor(alpha=0.0001, average=False, early_stopping=False, epsilon=0.1,\n",
       "             eta0=0.01, fit_intercept=True, l1_ratio=0.15,\n",
       "             learning_rate='invscaling', loss='squared_loss', max_iter=1000,\n",
       "             n_iter_no_change=5, penalty='l2', power_t=0.25, random_state=None,\n",
       "             shuffle=True, tol=0.001, validation_fraction=0.1, verbose=0,\n",
       "             warm_start=False)"
      ]
     },
     "execution_count": 32,
     "metadata": {},
     "output_type": "execute_result"
    }
   ],
   "source": [
    "%%time\n",
    "model_sgd = SGDRegressor()\n",
    "model_sgd.fit(X_train_check, y_train_check)"
   ]
  },
  {
   "cell_type": "code",
   "execution_count": 33,
   "metadata": {
    "colab": {
     "base_uri": "https://localhost:8080/",
     "height": 34
    },
    "colab_type": "code",
    "id": "MNRGUcBQOyon",
    "outputId": "9bfb5f5d-aeb8-4a58-a822-6e20347e015e"
   },
   "outputs": [
    {
     "name": "stdout",
     "output_type": "stream",
     "text": [
      "1.2092953590248496\n"
     ]
    }
   ],
   "source": [
    "pred_sgd = model_sgd.predict(X_test_check)\n",
    "sgd_rmse = np.sqrt(mean_squared_error(y_test_check, pred_sgd))\n",
    "model_error['SGDRegressor'] = sgd_rmse\n",
    "print(sgd_rmse)"
   ]
  },
  {
   "cell_type": "markdown",
   "metadata": {},
   "source": [
    "# Lasso/ Ridge"
   ]
  },
  {
   "cell_type": "markdown",
   "metadata": {},
   "source": [
    "Эти две техники применяются, если вам нужно уменьшить размерность данных и устранить проблему переобучения. Для этого применяются два способа:\n",
    "\n",
    "L1-регуляризация — добавляет штраф к сумме абсолютных значений коэффициентов. Этот метод используется в лассо-регрессии.\n",
    "L2-регуляризация — добавляет штраф к сумме квадратов коэффициентов. Этот метод используется в ридж-регрессии.\n",
    "В большинстве случаев исследователи и разработчики предпочитают L2-функцию — она эффективнее с точки зрения вычислительных функций. С другой стороны, лассо-регрессия позволяет уменьшить значения некоторых коэффициентов до 0, то есть вывести из поля исследования лишние переменные. Это полезно, если на какое-либо явление влияют тысячи факторов и рассматривать все их оказывается бессмысленно.\n",
    "\n",
    "Оба метода регуляризации объединены в технике эластичной сети. Она оптимально подходит, когда независимые переменные сильно коррелированы между собой. В этих случаях модель сможет попеременно применять L1- и L2-функции, в зависимости от того, какая лучше подходит с учетом входных данных."
   ]
  },
  {
   "cell_type": "markdown",
   "metadata": {},
   "source": [
    "## Ridge"
   ]
  },
  {
   "cell_type": "code",
   "execution_count": 23,
   "metadata": {},
   "outputs": [
    {
     "name": "stdout",
     "output_type": "stream",
     "text": [
      "CPU times: user 2.07 s, sys: 1.32 s, total: 3.39 s\n",
      "Wall time: 3.59 s\n"
     ]
    },
    {
     "data": {
      "text/plain": [
       "Ridge(alpha=1.0, copy_X=True, fit_intercept=True, max_iter=None,\n",
       "      normalize=False, random_state=None, solver='auto', tol=0.001)"
      ]
     },
     "execution_count": 23,
     "metadata": {},
     "output_type": "execute_result"
    }
   ],
   "source": [
    "%%time\n",
    "model_ridge = Ridge()\n",
    "model_ridge.fit(X_train_check, y_train_check)"
   ]
  },
  {
   "cell_type": "code",
   "execution_count": 24,
   "metadata": {},
   "outputs": [
    {
     "name": "stdout",
     "output_type": "stream",
     "text": [
      "1.2009967176923082\n"
     ]
    }
   ],
   "source": [
    "pred_ridge = model_ridge.predict(X_test_check)\n",
    "ridge_rmse = np.sqrt(mean_squared_error(y_test_check, pred_ridge))\n",
    "model_error['Ridge'] = ridge_rmse\n",
    "print(ridge_rmse)"
   ]
  },
  {
   "cell_type": "markdown",
   "metadata": {},
   "source": [
    "## Lasso "
   ]
  },
  {
   "cell_type": "code",
   "execution_count": 28,
   "metadata": {},
   "outputs": [
    {
     "name": "stdout",
     "output_type": "stream",
     "text": [
      "CPU times: user 1.96 s, sys: 1.29 s, total: 3.25 s\n",
      "Wall time: 3.03 s\n"
     ]
    },
    {
     "data": {
      "text/plain": [
       "Lasso(alpha=1.0, copy_X=True, fit_intercept=True, max_iter=1000,\n",
       "      normalize=False, positive=False, precompute=False, random_state=None,\n",
       "      selection='cyclic', tol=0.0001, warm_start=False)"
      ]
     },
     "execution_count": 28,
     "metadata": {},
     "output_type": "execute_result"
    }
   ],
   "source": [
    "%%time\n",
    "model_lasso = Lasso()\n",
    "model_lasso.fit(X_train_check, y_train_check)"
   ]
  },
  {
   "cell_type": "code",
   "execution_count": 31,
   "metadata": {},
   "outputs": [
    {
     "name": "stdout",
     "output_type": "stream",
     "text": [
      "1.3644989854092735\n"
     ]
    }
   ],
   "source": [
    "pred_lasso = model_lasso.predict(X_test_check)\n",
    "lasso_rmse = np.sqrt(mean_squared_error(y_test_check, pred_lasso))\n",
    "model_error['Lasso'] = lasso_rmse\n",
    "print(lasso_rmse)"
   ]
  },
  {
   "cell_type": "markdown",
   "metadata": {
    "colab_type": "text",
    "id": "3mJ01dkiqGQa"
   },
   "source": [
    "# XGBoost"
   ]
  },
  {
   "cell_type": "markdown",
   "metadata": {},
   "source": [
    "XGBoost - это алгоритм, который в последнее время доминирует в прикладном машинном обучении и соревнованиях Kaggle для структурированных или табличных данных.\n",
    "\n",
    "XGBoost - это реализация деревьев решений с градиентным усилением, разработанных для скорости и производительности.\n"
   ]
  },
  {
   "cell_type": "markdown",
   "metadata": {},
   "source": [
    "**Зачем использовать XGBoost?**\n",
    "\n",
    "Две причины использовать XGBoost также являются двумя целями проекта:\n",
    "\n",
    "- Скорость исполнения.\n",
    "- Модель Performance.\n",
    "\n",
    "**Скорость выполнения XGBoost**\n",
    "\n",
    "Как правило, XGBoost работает быстро. Действительно быстро по сравнению с другими реализациями повышения градиента.\n",
    "\n",
    "Сцилард Пафка выполнил несколько объективных тестов, сравнивая производительность XGBoost с другими реализациями деревьев градиентного усиления и пакетных решений. Свои результаты он написал в мае 2015 года в своем блоге под названием «Сравнительный анализ реализации случайных лесов».\n",
    "\n",
    "Он также предоставляет весь код на GitHub и более подробный отчет о результатах с точными числами."
   ]
  },
  {
   "cell_type": "markdown",
   "metadata": {},
   "source": [
    "**Производительность модели XGBoost**\n",
    "\n",
    "XGBoost доминирует над структурированными или табличными наборами данных в задачах прогнозирования и классификации.\n",
    "\n",
    "Доказательством тому является то, что это алгоритм выбора победителей конкурса на платформе конкурентной обработки данных Kaggle."
   ]
  },
  {
   "cell_type": "markdown",
   "metadata": {},
   "source": [
    "**Какой алгоритм использует XGBoost?**\n",
    "\n",
    "Библиотека XGBoost реализует алгоритм дерева решений для повышения градиента.\n",
    "\n",
    "Этот алгоритм имеет множество различных названий, таких как повышение градиента, несколько аддитивных деревьев регрессии, стохастическое повышение градиента или повышение градиента.\n",
    "\n",
    "Повышение - это метод ансамбля, в который добавляются новые модели для исправления ошибок, допущенных существующими моделями. Модели добавляются последовательно, пока дальнейшие улучшения не могут быть сделаны. Популярным примером является алгоритм AdaBoost, который взвешивает точки данных, которые трудно предсказать.\n",
    "\n",
    "Повышение градиента - это подход, при котором создаются новые модели, которые предсказывают невязки или ошибки предыдущих моделей, а затем складываются вместе, чтобы сделать окончательный прогноз. Это называется повышением градиента, потому что он использует алгоритм градиентного спуска, чтобы минимизировать потери при добавлении новых моделей.\n",
    "\n",
    "Этот подход поддерживает как регрессионные, так и классификационные задачи прогнозного моделирования."
   ]
  },
  {
   "cell_type": "code",
   "execution_count": 21,
   "metadata": {},
   "outputs": [
    {
     "name": "stdout",
     "output_type": "stream",
     "text": [
      "CPU times: user 13min 16s, sys: 14.3 s, total: 13min 30s\n",
      "Wall time: 15min 11s\n"
     ]
    },
    {
     "data": {
      "text/plain": [
       "XGBRegressor(base_score=0.5, booster=None, colsample_bylevel=1,\n",
       "             colsample_bynode=1, colsample_bytree=1, gamma=0, gpu_id=-1,\n",
       "             importance_type='gain', interaction_constraints=None,\n",
       "             learning_rate=0.300000012, max_delta_step=0, max_depth=6,\n",
       "             min_child_weight=1, missing=nan, monotone_constraints=None,\n",
       "             n_estimators=100, n_jobs=0, num_parallel_tree=1,\n",
       "             objective='reg:squarederror', random_state=0, reg_alpha=0,\n",
       "             reg_lambda=1, scale_pos_weight=1, subsample=1, tree_method=None,\n",
       "             validate_parameters=False, verbosity=None)"
      ]
     },
     "execution_count": 21,
     "metadata": {},
     "output_type": "execute_result"
    }
   ],
   "source": [
    "%%time\n",
    "model_xgboost = xgboost.XGBRegressor()\n",
    "model_xgboost.fit(X_train_check, y_train_check)"
   ]
  },
  {
   "cell_type": "code",
   "execution_count": 22,
   "metadata": {
    "colab": {},
    "colab_type": "code",
    "id": "YCtWGzx0taXO"
   },
   "outputs": [
    {
     "name": "stdout",
     "output_type": "stream",
     "text": [
      "1.0447138471992472\n"
     ]
    }
   ],
   "source": [
    "pred_xgb = model_xgboost.predict(X_test_check)\n",
    "xgboost_rmse = np.sqrt(mean_squared_error(y_test_check, pred_xgb))\n",
    "model_error['XGBoost'] = xgboost_rmse\n",
    "print(xgboost_rmse)"
   ]
  },
  {
   "cell_type": "code",
   "execution_count": 23,
   "metadata": {
    "colab": {},
    "colab_type": "code",
    "id": "XmcUy7RTAdxJ"
   },
   "outputs": [
    {
     "data": {
      "text/plain": [
       "<matplotlib.axes._subplots.AxesSubplot at 0x1a2ecf01d0>"
      ]
     },
     "execution_count": 23,
     "metadata": {},
     "output_type": "execute_result"
    },
    {
     "data": {
      "image/png": "[encoded data removed]",
      "text/plain": [
       "<Figure size 432x288 with 1 Axes>"
      ]
     },
     "metadata": {
      "needs_background": "light"
     },
     "output_type": "display_data"
    }
   ],
   "source": [
    "xgboost.plot_importance(model_xgboost) # график важности признаков"
   ]
  },
  {
   "cell_type": "markdown",
   "metadata": {
    "colab_type": "text",
    "id": "HlQhyvoJvjTa"
   },
   "source": [
    "# RandomForest"
   ]
  },
  {
   "cell_type": "markdown",
   "metadata": {},
   "source": [
    "RandomForest - это метаоценщик, который подходит к ряду классификационных деревьев решений по различным подвыборкам набора данных и использует усреднение для повышения точности прогнозирования и контроля соответствия. "
   ]
  },
  {
   "cell_type": "code",
   "execution_count": 40,
   "metadata": {
    "colab": {},
    "colab_type": "code",
    "id": "fcKImkhhviIz"
   },
   "outputs": [
    {
     "name": "stdout",
     "output_type": "stream",
     "text": [
      "CPU times: user 26min 58s, sys: 7.65 s, total: 27min 5s\n",
      "Wall time: 1h 44min 58s\n"
     ]
    },
    {
     "data": {
      "text/plain": [
       "RandomForestRegressor(bootstrap=True, ccp_alpha=0.0, criterion='mse',\n",
       "                      max_depth=None, max_features='auto', max_leaf_nodes=None,\n",
       "                      max_samples=None, min_impurity_decrease=0.0,\n",
       "                      min_impurity_split=None, min_samples_leaf=1,\n",
       "                      min_samples_split=2, min_weight_fraction_leaf=0.0,\n",
       "                      n_estimators=100, n_jobs=None, oob_score=False,\n",
       "                      random_state=None, verbose=0, warm_start=False)"
      ]
     },
     "execution_count": 40,
     "metadata": {},
     "output_type": "execute_result"
    }
   ],
   "source": [
    "%%time\n",
    "model_rf = RandomForestRegressor()\n",
    "model_rf.fit(X_train_check, y_train_check)"
   ]
  },
  {
   "cell_type": "code",
   "execution_count": 41,
   "metadata": {
    "colab": {},
    "colab_type": "code",
    "id": "fLqILNzUwdcs"
   },
   "outputs": [
    {
     "name": "stdout",
     "output_type": "stream",
     "text": [
      "1.0572073214666975\n"
     ]
    }
   ],
   "source": [
    "pred_rf = model_rf.predict(X_test_check)\n",
    "rf_rmse = np.sqrt(mean_squared_error(y_test_check, pred_rf))\n",
    "model_error['RandomForest'] = rf_rmse\n",
    "print(rf_rmse)"
   ]
  },
  {
   "cell_type": "markdown",
   "metadata": {
    "colab_type": "text",
    "id": "0a3-7ICyKmOH"
   },
   "source": [
    "# LightGBM"
   ]
  },
  {
   "cell_type": "markdown",
   "metadata": {},
   "source": [
    "**LightGBM** - это платформа для повышения градиента, использующая алгоритмы обучения на основе дерева. Он предназначен для распространения и эффективности со следующими преимуществами:\n",
    "\n",
    "- Более быстрая скорость обучения и высокая эффективность.\n",
    "- Более низкое использование памяти.\n",
    "- Лучшая точность.\n",
    "- Поддержка параллельного и GPU обучения.\n",
    "- Способен обрабатывать крупномасштабные данные."
   ]
  },
  {
   "cell_type": "code",
   "execution_count": 42,
   "metadata": {
    "colab": {},
    "colab_type": "code",
    "id": "EUdzd_fHKlaG"
   },
   "outputs": [
    {
     "data": {
      "text/plain": [
       "LGBMRegressor(boosting_type='gbdt', class_weight=None, colsample_bytree=1.0,\n",
       "              importance_type='split', learning_rate=0.1, max_depth=-1,\n",
       "              min_child_samples=20, min_child_weight=0.001, min_split_gain=0.0,\n",
       "              n_estimators=100, n_jobs=-1, num_leaves=31, objective=None,\n",
       "              random_state=None, reg_alpha=0.0, reg_lambda=0.0, silent=True,\n",
       "              subsample=1.0, subsample_for_bin=200000, subsample_freq=0)"
      ]
     },
     "execution_count": 42,
     "metadata": {},
     "output_type": "execute_result"
    }
   ],
   "source": [
    "model_lgbm = LGBMRegressor()\n",
    "model_lgbm.fit(X_train_check, y_train_check)"
   ]
  },
  {
   "cell_type": "code",
   "execution_count": 43,
   "metadata": {
    "colab": {},
    "colab_type": "code",
    "id": "0kHKox9cNWFw"
   },
   "outputs": [
    {
     "name": "stdout",
     "output_type": "stream",
     "text": [
      "1.048706763064606\n"
     ]
    }
   ],
   "source": [
    "pred_lgbm = model_lgbm.predict(X_test_check)\n",
    "lgbm_rmse = np.sqrt(mean_squared_error(y_test_check, pred_lgbm))\n",
    "model_error['LightGBM'] = lgbm_rmse\n",
    "print(lgbm_rmse)"
   ]
  },
  {
   "cell_type": "markdown",
   "metadata": {
    "colab_type": "text",
    "id": "zfqyWtj5_ugu"
   },
   "source": [
    "Посмотрим на то как алгоритмы работают \"из коробки\""
   ]
  },
  {
   "cell_type": "code",
   "execution_count": 44,
   "metadata": {
    "colab": {},
    "colab_type": "code",
    "id": "4w-f9OOB_5Zh"
   },
   "outputs": [
    {
     "name": "stdout",
     "output_type": "stream",
     "text": [
      "RMSE ошибка модели SGDRegressor - 1.2092953590248496\n",
      "RMSE ошибка модели Lasso - 1.3644989854092735\n",
      "RMSE ошибка модели LinearRegression - 1.2009961798582207\n",
      "RMSE ошибка модели XGBoost - 1.0447138471992472\n",
      "RMSE ошибка модели RandomForest - 1.0572073214666975\n",
      "RMSE ошибка модели LightGBM - 1.048706763064606\n",
      "Среднее качество моделей - 1.1542364093371493\n"
     ]
    }
   ],
   "source": [
    "full_rmse = 0\n",
    "for key, value in model_error.items():\n",
    "  full_rmse += value\n",
    "  print(\"RMSE ошибка модели {} - {}\".format(key, str(value)))\n",
    "print(\"Среднее качество моделей - {}\".format(str(full_rmse / len(model_error))))"
   ]
  },
  {
   "cell_type": "markdown",
   "metadata": {},
   "source": [
    "# Создадим файл с ответом"
   ]
  },
  {
   "cell_type": "code",
   "execution_count": 24,
   "metadata": {},
   "outputs": [
    {
     "data": {
      "text/plain": [
       "214200"
      ]
     },
     "execution_count": 24,
     "metadata": {},
     "output_type": "execute_result"
    }
   ],
   "source": [
    "pred_for_sub = model_xgboost.predict(X_test_num)\n",
    "len(pred_for_sub)"
   ]
  },
  {
   "cell_type": "code",
   "execution_count": 27,
   "metadata": {},
   "outputs": [
    {
     "data": {
      "text/html": [
       "<div>\n",
       "<style scoped>\n",
       "    .dataframe tbody tr th:only-of-type {\n",
       "        vertical-align: middle;\n",
       "    }\n",
       "\n",
       "    .dataframe tbody tr th {\n",
       "        vertical-align: top;\n",
       "    }\n",
       "\n",
       "    .dataframe thead th {\n",
       "        text-align: right;\n",
       "    }\n",
       "</style>\n",
       "<table border=\"1\" class=\"dataframe\">\n",
       "  <thead>\n",
       "    <tr style=\"text-align: right;\">\n",
       "      <th></th>\n",
       "      <th>ID</th>\n",
       "      <th>item_cnt_month</th>\n",
       "    </tr>\n",
       "  </thead>\n",
       "  <tbody>\n",
       "    <tr>\n",
       "      <th>0</th>\n",
       "      <td>0</td>\n",
       "      <td>1.051541</td>\n",
       "    </tr>\n",
       "    <tr>\n",
       "      <th>1</th>\n",
       "      <td>1</td>\n",
       "      <td>1.066909</td>\n",
       "    </tr>\n",
       "    <tr>\n",
       "      <th>2</th>\n",
       "      <td>2</td>\n",
       "      <td>1.141300</td>\n",
       "    </tr>\n",
       "    <tr>\n",
       "      <th>3</th>\n",
       "      <td>3</td>\n",
       "      <td>1.062315</td>\n",
       "    </tr>\n",
       "    <tr>\n",
       "      <th>4</th>\n",
       "      <td>4</td>\n",
       "      <td>1.095508</td>\n",
       "    </tr>\n",
       "    <tr>\n",
       "      <th>...</th>\n",
       "      <td>...</td>\n",
       "      <td>...</td>\n",
       "    </tr>\n",
       "    <tr>\n",
       "      <th>214195</th>\n",
       "      <td>214195</td>\n",
       "      <td>1.057303</td>\n",
       "    </tr>\n",
       "    <tr>\n",
       "      <th>214196</th>\n",
       "      <td>214196</td>\n",
       "      <td>1.141973</td>\n",
       "    </tr>\n",
       "    <tr>\n",
       "      <th>214197</th>\n",
       "      <td>214197</td>\n",
       "      <td>1.026181</td>\n",
       "    </tr>\n",
       "    <tr>\n",
       "      <th>214198</th>\n",
       "      <td>214198</td>\n",
       "      <td>1.552083</td>\n",
       "    </tr>\n",
       "    <tr>\n",
       "      <th>214199</th>\n",
       "      <td>214199</td>\n",
       "      <td>1.029791</td>\n",
       "    </tr>\n",
       "  </tbody>\n",
       "</table>\n",
       "<p>214200 rows × 2 columns</p>\n",
       "</div>"
      ],
      "text/plain": [
       "            ID  item_cnt_month\n",
       "0            0        1.051541\n",
       "1            1        1.066909\n",
       "2            2        1.141300\n",
       "3            3        1.062315\n",
       "4            4        1.095508\n",
       "...        ...             ...\n",
       "214195  214195        1.057303\n",
       "214196  214196        1.141973\n",
       "214197  214197        1.026181\n",
       "214198  214198        1.552083\n",
       "214199  214199        1.029791\n",
       "\n",
       "[214200 rows x 2 columns]"
      ]
     },
     "execution_count": 27,
     "metadata": {},
     "output_type": "execute_result"
    }
   ],
   "source": [
    "result = pd.DataFrame({'ID':test.ID, 'item_cnt_month':pred_for_sub})\n",
    "result"
   ]
  },
  {
   "cell_type": "code",
   "execution_count": 29,
   "metadata": {},
   "outputs": [],
   "source": [
    "result.to_csv(\"resul.csv\", index=False)"
   ]
  },
  {
   "cell_type": "markdown",
   "metadata": {},
   "source": [
    "# Выводы"
   ]
  },
  {
   "cell_type": "markdown",
   "metadata": {},
   "source": [
    "По данным можно увидеть, что больше всего продаж в городе Москва и в категориях Игры, Подарки, Кино и Музыка. Также рассмотрели зависимость продаж от конкретного месяца, попробовали различные алгоритмы, выделили лучший. С помощью этого добились лучшего результата, а так же увидели, что задача решаема с помощью стандартных инструментов."
   ]
  }
 ],
 "metadata": {
  "colab": {
   "collapsed_sections": [],
   "name": "sales_prediction_kaggle.ipynb",
   "provenance": []
  },
  "kernelspec": {
   "display_name": "Python 3",
   "language": "python",
   "name": "python3"
  },
  "language_info": {
   "codemirror_mode": {
    "name": "ipython",
    "version": 3
   },
   "file_extension": ".py",
   "mimetype": "text/x-python",
   "name": "python",
   "nbconvert_exporter": "python",
   "pygments_lexer": "ipython3",
   "version": "3.7.7"
  }
 },
 "nbformat": 4,
 "nbformat_minor": 1
}
